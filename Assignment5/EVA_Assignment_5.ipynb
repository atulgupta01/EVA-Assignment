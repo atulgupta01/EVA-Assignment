{
  "nbformat": 4,
  "nbformat_minor": 0,
  "metadata": {
    "colab": {
      "name": "EVA_Assignment_5.ipynb",
      "version": "0.3.2",
      "provenance": [],
      "collapsed_sections": [],
      "toc_visible": true
    },
    "kernelspec": {
      "name": "python3",
      "display_name": "Python 3"
    },
    "accelerator": "GPU"
  },
  "cells": [
    {
      "cell_type": "markdown",
      "metadata": {
        "id": "aNyZv-Ec52ot",
        "colab_type": "text"
      },
      "source": [
        "# **Import Libraries and modules**"
      ]
    },
    {
      "cell_type": "code",
      "metadata": {
        "id": "3m3w1Cw49Zkt",
        "colab_type": "code",
        "outputId": "b4f6d3cc-cf62-4597-e9bd-054644567668",
        "colab": {
          "base_uri": "https://localhost:8080/",
          "height": 34
        }
      },
      "source": [
        "# https://keras.io/\n",
        "!pip install -q keras\n",
        "import keras"
      ],
      "execution_count": 0,
      "outputs": [
        {
          "output_type": "stream",
          "text": [
            "Using TensorFlow backend.\n"
          ],
          "name": "stderr"
        }
      ]
    },
    {
      "cell_type": "code",
      "metadata": {
        "id": "Eso6UHE080D4",
        "colab_type": "code",
        "colab": {}
      },
      "source": [
        "import numpy as np\n",
        "\n",
        "from keras.models import Sequential\n",
        "from keras.layers import Dense, Dropout, Activation, Flatten, Add\n",
        "from keras.layers import Convolution2D, MaxPooling2D\n",
        "from keras.utils import np_utils\n",
        "from keras.layers.normalization import BatchNormalization\n",
        "from keras import optimizers\n",
        "\n",
        "from keras.datasets import mnist"
      ],
      "execution_count": 0,
      "outputs": []
    },
    {
      "cell_type": "markdown",
      "metadata": {
        "id": "zByEi95J86RD",
        "colab_type": "text"
      },
      "source": [
        "### Load pre-shuffled MNIST data into train and test sets"
      ]
    },
    {
      "cell_type": "code",
      "metadata": {
        "id": "7eRM0QWN83PV",
        "colab_type": "code",
        "colab": {}
      },
      "source": [
        "(X_train, y_train), (X_test, y_test) = mnist.load_data()"
      ],
      "execution_count": 0,
      "outputs": []
    },
    {
      "cell_type": "code",
      "metadata": {
        "id": "4a4Be72j8-ZC",
        "colab_type": "code",
        "outputId": "58fe70fa-90a0-4c12-e51e-c088b10b4eba",
        "colab": {
          "base_uri": "https://localhost:8080/",
          "height": 303
        }
      },
      "source": [
        "print (X_train.shape)\n",
        "from matplotlib import pyplot as plt\n",
        "%matplotlib inline\n",
        "plt.imshow(X_train[0])"
      ],
      "execution_count": 0,
      "outputs": [
        {
          "output_type": "stream",
          "text": [
            "(60000, 28, 28)\n"
          ],
          "name": "stdout"
        },
        {
          "output_type": "execute_result",
          "data": {
            "text/plain": [
              "<matplotlib.image.AxesImage at 0x7fbd0f3c82e8>"
            ]
          },
          "metadata": {
            "tags": []
          },
          "execution_count": 4
        },
        {
          "output_type": "display_data",
          "data": {
            "image/png": "[encoded data removed]",
            "text/plain": [
              "<Figure size 432x288 with 1 Axes>"
            ]
          },
          "metadata": {
            "tags": []
          }
        }
      ]
    },
    {
      "cell_type": "code",
      "metadata": {
        "id": "dkmprriw9AnZ",
        "colab_type": "code",
        "colab": {}
      },
      "source": [
        "X_train = X_train.reshape(X_train.shape[0], 28, 28,1)\n",
        "X_test = X_test.reshape(X_test.shape[0], 28, 28,1)"
      ],
      "execution_count": 0,
      "outputs": []
    },
    {
      "cell_type": "code",
      "metadata": {
        "id": "X2m4YS4E9CRh",
        "colab_type": "code",
        "colab": {}
      },
      "source": [
        "X_train = X_train.astype('float32')\n",
        "X_test = X_test.astype('float32')\n",
        "X_train /= 255\n",
        "X_test /= 255"
      ],
      "execution_count": 0,
      "outputs": []
    },
    {
      "cell_type": "code",
      "metadata": {
        "id": "0Mn0vAYD9DvB",
        "colab_type": "code",
        "outputId": "18c4f8bb-fa19-40f0-a831-7ed61e0ed58c",
        "colab": {
          "base_uri": "https://localhost:8080/",
          "height": 34
        }
      },
      "source": [
        "y_train[:10]"
      ],
      "execution_count": 0,
      "outputs": [
        {
          "output_type": "execute_result",
          "data": {
            "text/plain": [
              "array([5, 0, 4, 1, 9, 2, 1, 3, 1, 4], dtype=uint8)"
            ]
          },
          "metadata": {
            "tags": []
          },
          "execution_count": 7
        }
      ]
    },
    {
      "cell_type": "code",
      "metadata": {
        "id": "ZG8JiXR39FHC",
        "colab_type": "code",
        "colab": {}
      },
      "source": [
        "# Convert 1-dimensional class arrays to 10-dimensional class matrices\n",
        "Y_train = np_utils.to_categorical(y_train, 10)\n",
        "Y_test = np_utils.to_categorical(y_test, 10)"
      ],
      "execution_count": 0,
      "outputs": []
    },
    {
      "cell_type": "code",
      "metadata": {
        "id": "fYlFRvKS9HMB",
        "colab_type": "code",
        "outputId": "30214529-2545-461b-e39d-53e24be9160b",
        "colab": {
          "base_uri": "https://localhost:8080/",
          "height": 187
        }
      },
      "source": [
        "Y_train[:10]\n"
      ],
      "execution_count": 0,
      "outputs": [
        {
          "output_type": "execute_result",
          "data": {
            "text/plain": [
              "array([[0., 0., 0., 0., 0., 1., 0., 0., 0., 0.],\n",
              "       [1., 0., 0., 0., 0., 0., 0., 0., 0., 0.],\n",
              "       [0., 0., 0., 0., 1., 0., 0., 0., 0., 0.],\n",
              "       [0., 1., 0., 0., 0., 0., 0., 0., 0., 0.],\n",
              "       [0., 0., 0., 0., 0., 0., 0., 0., 0., 1.],\n",
              "       [0., 0., 1., 0., 0., 0., 0., 0., 0., 0.],\n",
              "       [0., 1., 0., 0., 0., 0., 0., 0., 0., 0.],\n",
              "       [0., 0., 0., 1., 0., 0., 0., 0., 0., 0.],\n",
              "       [0., 1., 0., 0., 0., 0., 0., 0., 0., 0.],\n",
              "       [0., 0., 0., 0., 1., 0., 0., 0., 0., 0.]], dtype=float32)"
            ]
          },
          "metadata": {
            "tags": []
          },
          "execution_count": 9
        }
      ]
    },
    {
      "cell_type": "markdown",
      "metadata": {
        "id": "2kuRFaZfGRRh",
        "colab_type": "text"
      },
      "source": [
        "**Forth Model from last assignment**"
      ]
    },
    {
      "cell_type": "code",
      "metadata": {
        "id": "Q8r84J4tGYn-",
        "colab_type": "code",
        "outputId": "9821bd14-8d4a-4792-c41a-d8cdac249ed0",
        "colab": {
          "base_uri": "https://localhost:8080/",
          "height": 1000
        }
      },
      "source": [
        "model = Sequential()\n",
        "\n",
        " \n",
        "model.add(Convolution2D(16, 3, 3, input_shape=(28,28,1))) #Receptive field 3*3\n",
        "model.add(Activation('relu'))\n",
        "model.add(BatchNormalization())\n",
        "model.add(Dropout(0.25))\n",
        "model.add(Convolution2D(16, 3, 3)) #Receptive field 5*5\n",
        "model.add(Activation('relu'))\n",
        "model.add(BatchNormalization())\n",
        "model.add(Dropout(0.25))\n",
        "model.add(MaxPooling2D()) #Receptive field 6*6\n",
        "model.add(Convolution2D(16, 3, 3)) #Receptive field 10*10\n",
        "model.add(Activation('relu'))\n",
        "model.add(BatchNormalization())\n",
        "model.add(Dropout(0.25))\n",
        "model.add(Convolution2D(16, 3, 3)) #Receptive field 14*14\n",
        "model.add(Activation('relu'))\n",
        "model.add(BatchNormalization())\n",
        "model.add(Dropout(0.25))\n",
        "model.add(Convolution2D(10, 1))\n",
        "model.add(Convolution2D(10, 8))\n",
        "model.add(BatchNormalization())\n",
        "model.add(Flatten())\n",
        "model.add(Activation('softmax'))\n",
        "\n",
        "model.summary()"
      ],
      "execution_count": 0,
      "outputs": [
        {
          "output_type": "stream",
          "text": [
            "WARNING: Logging before flag parsing goes to stderr.\n",
            "W0901 08:08:54.258257 140451496798080 deprecation_wrapper.py:119] From /usr/local/lib/python3.6/dist-packages/keras/backend/tensorflow_backend.py:66: The name tf.get_default_graph is deprecated. Please use tf.compat.v1.get_default_graph instead.\n",
            "\n",
            "/usr/local/lib/python3.6/dist-packages/ipykernel_launcher.py:4: UserWarning: Update your `Conv2D` call to the Keras 2 API: `Conv2D(16, (3, 3), input_shape=(28, 28, 1...)`\n",
            "  after removing the cwd from sys.path.\n",
            "W0901 08:08:54.280232 140451496798080 deprecation_wrapper.py:119] From /usr/local/lib/python3.6/dist-packages/keras/backend/tensorflow_backend.py:541: The name tf.placeholder is deprecated. Please use tf.compat.v1.placeholder instead.\n",
            "\n",
            "W0901 08:08:54.283060 140451496798080 deprecation_wrapper.py:119] From /usr/local/lib/python3.6/dist-packages/keras/backend/tensorflow_backend.py:4432: The name tf.random_uniform is deprecated. Please use tf.random.uniform instead.\n",
            "\n",
            "W0901 08:08:54.308671 140451496798080 deprecation_wrapper.py:119] From /usr/local/lib/python3.6/dist-packages/keras/backend/tensorflow_backend.py:190: The name tf.get_default_session is deprecated. Please use tf.compat.v1.get_default_session instead.\n",
            "\n",
            "W0901 08:08:54.309352 140451496798080 deprecation_wrapper.py:119] From /usr/local/lib/python3.6/dist-packages/keras/backend/tensorflow_backend.py:197: The name tf.ConfigProto is deprecated. Please use tf.compat.v1.ConfigProto instead.\n",
            "\n",
            "W0901 08:08:55.104776 140451496798080 deprecation_wrapper.py:119] From /usr/local/lib/python3.6/dist-packages/keras/backend/tensorflow_backend.py:2041: The name tf.nn.fused_batch_norm is deprecated. Please use tf.compat.v1.nn.fused_batch_norm instead.\n",
            "\n",
            "W0901 08:08:55.168658 140451496798080 deprecation.py:506] From /usr/local/lib/python3.6/dist-packages/keras/backend/tensorflow_backend.py:3733: calling dropout (from tensorflow.python.ops.nn_ops) with keep_prob is deprecated and will be removed in a future version.\n",
            "Instructions for updating:\n",
            "Please use `rate` instead of `keep_prob`. Rate should be set to `rate = 1 - keep_prob`.\n",
            "/usr/local/lib/python3.6/dist-packages/ipykernel_launcher.py:8: UserWarning: Update your `Conv2D` call to the Keras 2 API: `Conv2D(16, (3, 3))`\n",
            "  \n",
            "W0901 08:08:55.388644 140451496798080 deprecation_wrapper.py:119] From /usr/local/lib/python3.6/dist-packages/keras/backend/tensorflow_backend.py:4267: The name tf.nn.max_pool is deprecated. Please use tf.nn.max_pool2d instead.\n",
            "\n",
            "/usr/local/lib/python3.6/dist-packages/ipykernel_launcher.py:13: UserWarning: Update your `Conv2D` call to the Keras 2 API: `Conv2D(16, (3, 3))`\n",
            "  del sys.path[0]\n",
            "/usr/local/lib/python3.6/dist-packages/ipykernel_launcher.py:17: UserWarning: Update your `Conv2D` call to the Keras 2 API: `Conv2D(16, (3, 3))`\n"
          ],
          "name": "stderr"
        },
        {
          "output_type": "stream",
          "text": [
            "Model: \"sequential_1\"\n",
            "_________________________________________________________________\n",
            "Layer (type)                 Output Shape              Param #   \n",
            "=================================================================\n",
            "conv2d_1 (Conv2D)            (None, 26, 26, 16)        160       \n",
            "_________________________________________________________________\n",
            "activation_1 (Activation)    (None, 26, 26, 16)        0         \n",
            "_________________________________________________________________\n",
            "batch_normalization_1 (Batch (None, 26, 26, 16)        64        \n",
            "_________________________________________________________________\n",
            "dropout_1 (Dropout)          (None, 26, 26, 16)        0         \n",
            "_________________________________________________________________\n",
            "conv2d_2 (Conv2D)            (None, 24, 24, 16)        2320      \n",
            "_________________________________________________________________\n",
            "activation_2 (Activation)    (None, 24, 24, 16)        0         \n",
            "_________________________________________________________________\n",
            "batch_normalization_2 (Batch (None, 24, 24, 16)        64        \n",
            "_________________________________________________________________\n",
            "dropout_2 (Dropout)          (None, 24, 24, 16)        0         \n",
            "_________________________________________________________________\n",
            "max_pooling2d_1 (MaxPooling2 (None, 12, 12, 16)        0         \n",
            "_________________________________________________________________\n",
            "conv2d_3 (Conv2D)            (None, 10, 10, 16)        2320      \n",
            "_________________________________________________________________\n",
            "activation_3 (Activation)    (None, 10, 10, 16)        0         \n",
            "_________________________________________________________________\n",
            "batch_normalization_3 (Batch (None, 10, 10, 16)        64        \n",
            "_________________________________________________________________\n",
            "dropout_3 (Dropout)          (None, 10, 10, 16)        0         \n",
            "_________________________________________________________________\n",
            "conv2d_4 (Conv2D)            (None, 8, 8, 16)          2320      \n",
            "_________________________________________________________________\n",
            "activation_4 (Activation)    (None, 8, 8, 16)          0         \n",
            "_________________________________________________________________\n",
            "batch_normalization_4 (Batch (None, 8, 8, 16)          64        \n",
            "_________________________________________________________________\n",
            "dropout_4 (Dropout)          (None, 8, 8, 16)          0         \n",
            "_________________________________________________________________\n",
            "conv2d_5 (Conv2D)            (None, 8, 8, 10)          170       \n",
            "_________________________________________________________________\n",
            "conv2d_6 (Conv2D)            (None, 1, 1, 10)          6410      \n",
            "_________________________________________________________________\n",
            "batch_normalization_5 (Batch (None, 1, 1, 10)          40        \n",
            "_________________________________________________________________\n",
            "flatten_1 (Flatten)          (None, 10)                0         \n",
            "_________________________________________________________________\n",
            "activation_5 (Activation)    (None, 10)                0         \n",
            "=================================================================\n",
            "Total params: 13,996\n",
            "Trainable params: 13,848\n",
            "Non-trainable params: 148\n",
            "_________________________________________________________________\n"
          ],
          "name": "stdout"
        }
      ]
    },
    {
      "cell_type": "code",
      "metadata": {
        "id": "RspDZqwdGdsd",
        "colab_type": "code",
        "outputId": "e2efab41-2c11-4386-d7a8-db83c5ad7643",
        "colab": {
          "base_uri": "https://localhost:8080/",
          "height": 1000
        }
      },
      "source": [
        "model.compile(loss='categorical_crossentropy',\n",
        "             optimizer=optimizers.Adam(lr = 0.01, decay = 0.0001),\n",
        "             metrics=['accuracy'])\n",
        "model.fit(X_train, Y_train, batch_size=32, nb_epoch=30, verbose=1,\n",
        "          validation_data=(X_test, Y_test))"
      ],
      "execution_count": 0,
      "outputs": [
        {
          "output_type": "stream",
          "text": [
            "W0901 08:08:55.671879 140451496798080 deprecation_wrapper.py:119] From /usr/local/lib/python3.6/dist-packages/keras/optimizers.py:793: The name tf.train.Optimizer is deprecated. Please use tf.compat.v1.train.Optimizer instead.\n",
            "\n",
            "/usr/local/lib/python3.6/dist-packages/ipykernel_launcher.py:5: UserWarning: The `nb_epoch` argument in `fit` has been renamed `epochs`.\n",
            "  \"\"\"\n",
            "W0901 08:08:55.757230 140451496798080 deprecation.py:323] From /usr/local/lib/python3.6/dist-packages/tensorflow/python/ops/math_grad.py:1250: add_dispatch_support.<locals>.wrapper (from tensorflow.python.ops.array_ops) is deprecated and will be removed in a future version.\n",
            "Instructions for updating:\n",
            "Use tf.where in 2.0, which has the same broadcast rule as np.where\n"
          ],
          "name": "stderr"
        },
        {
          "output_type": "stream",
          "text": [
            "Train on 60000 samples, validate on 10000 samples\n",
            "Epoch 1/30\n",
            "60000/60000 [==============================] - 21s 355us/step - loss: 0.2252 - acc: 0.9419 - val_loss: 0.0627 - val_acc: 0.9828\n",
            "Epoch 2/30\n",
            "60000/60000 [==============================] - 19s 312us/step - loss: 0.1035 - acc: 0.9707 - val_loss: 0.0384 - val_acc: 0.9883\n",
            "Epoch 3/30\n",
            "60000/60000 [==============================] - 19s 312us/step - loss: 0.0825 - acc: 0.9758 - val_loss: 0.0322 - val_acc: 0.9909\n",
            "Epoch 4/30\n",
            "60000/60000 [==============================] - 19s 313us/step - loss: 0.0709 - acc: 0.9790 - val_loss: 0.0300 - val_acc: 0.9904\n",
            "Epoch 5/30\n",
            "60000/60000 [==============================] - 19s 315us/step - loss: 0.0635 - acc: 0.9807 - val_loss: 0.0258 - val_acc: 0.9927\n",
            "Epoch 6/30\n",
            "60000/60000 [==============================] - 19s 313us/step - loss: 0.0587 - acc: 0.9829 - val_loss: 0.0277 - val_acc: 0.9913\n",
            "Epoch 7/30\n",
            "60000/60000 [==============================] - 19s 311us/step - loss: 0.0531 - acc: 0.9848 - val_loss: 0.0306 - val_acc: 0.9908\n",
            "Epoch 8/30\n",
            "60000/60000 [==============================] - 19s 310us/step - loss: 0.0513 - acc: 0.9849 - val_loss: 0.0267 - val_acc: 0.9912\n",
            "Epoch 9/30\n",
            "60000/60000 [==============================] - 19s 310us/step - loss: 0.0473 - acc: 0.9858 - val_loss: 0.0219 - val_acc: 0.9938\n",
            "Epoch 10/30\n",
            "60000/60000 [==============================] - 19s 314us/step - loss: 0.0475 - acc: 0.9858 - val_loss: 0.0237 - val_acc: 0.9928\n",
            "Epoch 11/30\n",
            "60000/60000 [==============================] - 19s 311us/step - loss: 0.0437 - acc: 0.9869 - val_loss: 0.0250 - val_acc: 0.9916\n",
            "Epoch 12/30\n",
            "60000/60000 [==============================] - 19s 312us/step - loss: 0.0434 - acc: 0.9872 - val_loss: 0.0229 - val_acc: 0.9934\n",
            "Epoch 13/30\n",
            "60000/60000 [==============================] - 19s 311us/step - loss: 0.0398 - acc: 0.9881 - val_loss: 0.0219 - val_acc: 0.9936\n",
            "Epoch 14/30\n",
            "60000/60000 [==============================] - 19s 311us/step - loss: 0.0404 - acc: 0.9879 - val_loss: 0.0225 - val_acc: 0.9925\n",
            "Epoch 15/30\n",
            "60000/60000 [==============================] - 19s 311us/step - loss: 0.0387 - acc: 0.9886 - val_loss: 0.0210 - val_acc: 0.9932\n",
            "Epoch 16/30\n",
            "60000/60000 [==============================] - 19s 310us/step - loss: 0.0366 - acc: 0.9887 - val_loss: 0.0215 - val_acc: 0.9932\n",
            "Epoch 17/30\n",
            "60000/60000 [==============================] - 19s 310us/step - loss: 0.0372 - acc: 0.9885 - val_loss: 0.0214 - val_acc: 0.9931\n",
            "Epoch 18/30\n",
            "60000/60000 [==============================] - 19s 310us/step - loss: 0.0361 - acc: 0.9896 - val_loss: 0.0214 - val_acc: 0.9932\n",
            "Epoch 19/30\n",
            "60000/60000 [==============================] - 19s 309us/step - loss: 0.0364 - acc: 0.9890 - val_loss: 0.0202 - val_acc: 0.9936\n",
            "Epoch 20/30\n",
            "60000/60000 [==============================] - 18s 308us/step - loss: 0.0350 - acc: 0.9898 - val_loss: 0.0195 - val_acc: 0.9938\n",
            "Epoch 21/30\n",
            "60000/60000 [==============================] - 19s 313us/step - loss: 0.0336 - acc: 0.9899 - val_loss: 0.0199 - val_acc: 0.9938\n",
            "Epoch 22/30\n",
            "60000/60000 [==============================] - 18s 308us/step - loss: 0.0341 - acc: 0.9894 - val_loss: 0.0207 - val_acc: 0.9928\n",
            "Epoch 23/30\n",
            "60000/60000 [==============================] - 19s 310us/step - loss: 0.0331 - acc: 0.9904 - val_loss: 0.0196 - val_acc: 0.9937\n",
            "Epoch 24/30\n",
            "60000/60000 [==============================] - 19s 313us/step - loss: 0.0325 - acc: 0.9900 - val_loss: 0.0185 - val_acc: 0.9941\n",
            "Epoch 25/30\n",
            "60000/60000 [==============================] - 19s 314us/step - loss: 0.0328 - acc: 0.9897 - val_loss: 0.0184 - val_acc: 0.9946\n",
            "Epoch 26/30\n",
            "60000/60000 [==============================] - 19s 314us/step - loss: 0.0311 - acc: 0.9906 - val_loss: 0.0182 - val_acc: 0.9946\n",
            "Epoch 27/30\n",
            "60000/60000 [==============================] - 19s 310us/step - loss: 0.0317 - acc: 0.9902 - val_loss: 0.0183 - val_acc: 0.9942\n",
            "Epoch 28/30\n",
            "60000/60000 [==============================] - 19s 310us/step - loss: 0.0303 - acc: 0.9906 - val_loss: 0.0184 - val_acc: 0.9940\n",
            "Epoch 29/30\n",
            "60000/60000 [==============================] - 18s 308us/step - loss: 0.0311 - acc: 0.9905 - val_loss: 0.0192 - val_acc: 0.9937\n",
            "Epoch 30/30\n",
            "60000/60000 [==============================] - 19s 310us/step - loss: 0.0306 - acc: 0.9910 - val_loss: 0.0181 - val_acc: 0.9949\n"
          ],
          "name": "stdout"
        },
        {
          "output_type": "execute_result",
          "data": {
            "text/plain": [
              "<keras.callbacks.History at 0x7fbd0cb24c50>"
            ]
          },
          "metadata": {
            "tags": []
          },
          "execution_count": 11
        }
      ]
    },
    {
      "cell_type": "markdown",
      "metadata": {
        "id": "SZlUEtiZhnz2",
        "colab_type": "text"
      },
      "source": [
        "With the modified model, highest accuracy achieved is approx **99.50%** on the validation dataset. "
      ]
    },
    {
      "cell_type": "markdown",
      "metadata": {
        "id": "52dQCcDv4m8I",
        "colab_type": "text"
      },
      "source": [
        "New model after moving batch normalization before Relu activation function as suggested by different acadmecian as well as Dr. Andrew Ng."
      ]
    },
    {
      "cell_type": "code",
      "metadata": {
        "id": "mFLPc7FqaTp4",
        "colab_type": "code",
        "outputId": "0c9e71a3-e268-431a-f638-4b8dda63f02d",
        "colab": {
          "base_uri": "https://localhost:8080/",
          "height": 1000
        }
      },
      "source": [
        "model = Sequential()\n",
        " \n",
        "model.add(Convolution2D(16, 3, 3, input_shape=(28,28,1))) #Receptive field 3*3\n",
        "model.add(BatchNormalization())\n",
        "model.add(Activation('relu'))\n",
        "model.add(Dropout(0.25))\n",
        "model.add(Convolution2D(16, 3, 3)) #Receptive field 5*5\n",
        "model.add(BatchNormalization())\n",
        "model.add(Activation('relu'))\n",
        "model.add(Dropout(0.25))\n",
        "model.add(MaxPooling2D()) #Receptive field 6*6\n",
        "model.add(Convolution2D(16, 3, 3)) #Receptive field 10*10\n",
        "model.add(BatchNormalization())\n",
        "model.add(Activation('relu'))\n",
        "model.add(Dropout(0.25))\n",
        "model.add(Convolution2D(16, 3, 3)) #Receptive field 14*14\n",
        "model.add(BatchNormalization())\n",
        "model.add(Activation('relu'))\n",
        "model.add(Dropout(0.25))\n",
        "model.add(Convolution2D(10, 1))\n",
        "model.add(Convolution2D(10, 8))\n",
        "model.add(BatchNormalization())\n",
        "model.add(Flatten())\n",
        "model.add(Activation('softmax'))\n",
        "\n",
        "model.summary()"
      ],
      "execution_count": 0,
      "outputs": [
        {
          "output_type": "stream",
          "text": [
            "/usr/local/lib/python3.6/dist-packages/ipykernel_launcher.py:3: UserWarning: Update your `Conv2D` call to the Keras 2 API: `Conv2D(16, (3, 3), input_shape=(28, 28, 1...)`\n",
            "  This is separate from the ipykernel package so we can avoid doing imports until\n",
            "/usr/local/lib/python3.6/dist-packages/ipykernel_launcher.py:7: UserWarning: Update your `Conv2D` call to the Keras 2 API: `Conv2D(16, (3, 3))`\n",
            "  import sys\n",
            "/usr/local/lib/python3.6/dist-packages/ipykernel_launcher.py:12: UserWarning: Update your `Conv2D` call to the Keras 2 API: `Conv2D(16, (3, 3))`\n",
            "  if sys.path[0] == '':\n"
          ],
          "name": "stderr"
        },
        {
          "output_type": "stream",
          "text": [
            "Model: \"sequential_2\"\n",
            "_________________________________________________________________\n",
            "Layer (type)                 Output Shape              Param #   \n",
            "=================================================================\n",
            "conv2d_7 (Conv2D)            (None, 26, 26, 16)        160       \n",
            "_________________________________________________________________\n",
            "batch_normalization_6 (Batch (None, 26, 26, 16)        64        \n",
            "_________________________________________________________________\n",
            "activation_6 (Activation)    (None, 26, 26, 16)        0         \n",
            "_________________________________________________________________\n",
            "dropout_5 (Dropout)          (None, 26, 26, 16)        0         \n",
            "_________________________________________________________________\n",
            "conv2d_8 (Conv2D)            (None, 24, 24, 16)        2320      \n",
            "_________________________________________________________________\n",
            "batch_normalization_7 (Batch (None, 24, 24, 16)        64        \n",
            "_________________________________________________________________\n",
            "activation_7 (Activation)    (None, 24, 24, 16)        0         \n",
            "_________________________________________________________________\n",
            "dropout_6 (Dropout)          (None, 24, 24, 16)        0         \n",
            "_________________________________________________________________\n",
            "max_pooling2d_2 (MaxPooling2 (None, 12, 12, 16)        0         \n",
            "_________________________________________________________________\n",
            "conv2d_9 (Conv2D)            (None, 10, 10, 16)        2320      \n",
            "_________________________________________________________________\n",
            "batch_normalization_8 (Batch (None, 10, 10, 16)        64        \n",
            "_________________________________________________________________\n",
            "activation_8 (Activation)    (None, 10, 10, 16)        0         \n",
            "_________________________________________________________________\n",
            "dropout_7 (Dropout)          (None, 10, 10, 16)        0         \n",
            "_________________________________________________________________\n",
            "conv2d_10 (Conv2D)           (None, 8, 8, 16)          2320      \n",
            "_________________________________________________________________\n",
            "batch_normalization_9 (Batch (None, 8, 8, 16)          64        \n",
            "_________________________________________________________________\n",
            "activation_9 (Activation)    (None, 8, 8, 16)          0         \n",
            "_________________________________________________________________\n",
            "dropout_8 (Dropout)          (None, 8, 8, 16)          0         \n",
            "_________________________________________________________________\n",
            "conv2d_11 (Conv2D)           (None, 8, 8, 10)          170       \n",
            "_________________________________________________________________\n",
            "conv2d_12 (Conv2D)           (None, 1, 1, 10)          6410      \n",
            "_________________________________________________________________\n",
            "batch_normalization_10 (Batc (None, 1, 1, 10)          40        \n",
            "_________________________________________________________________\n",
            "flatten_2 (Flatten)          (None, 10)                0         \n",
            "_________________________________________________________________\n",
            "activation_10 (Activation)   (None, 10)                0         \n",
            "=================================================================\n",
            "Total params: 13,996\n",
            "Trainable params: 13,848\n",
            "Non-trainable params: 148\n",
            "_________________________________________________________________\n"
          ],
          "name": "stdout"
        },
        {
          "output_type": "stream",
          "text": [
            "/usr/local/lib/python3.6/dist-packages/ipykernel_launcher.py:16: UserWarning: Update your `Conv2D` call to the Keras 2 API: `Conv2D(16, (3, 3))`\n",
            "  app.launch_new_instance()\n"
          ],
          "name": "stderr"
        }
      ]
    },
    {
      "cell_type": "code",
      "metadata": {
        "id": "riFVIi4JbnV1",
        "colab_type": "code",
        "outputId": "a020a367-249f-42bd-f173-9c74823f9195",
        "colab": {
          "base_uri": "https://localhost:8080/",
          "height": 1000
        }
      },
      "source": [
        "model.compile(loss='categorical_crossentropy',\n",
        "             optimizer=optimizers.Adam(lr = 0.01, decay = 0.0001),\n",
        "             metrics=['accuracy'])\n",
        "model.fit(X_train, Y_train, batch_size=32, nb_epoch=30, verbose=1,\n",
        "          validation_data=(X_test, Y_test))"
      ],
      "execution_count": 0,
      "outputs": [
        {
          "output_type": "stream",
          "text": [
            "/usr/local/lib/python3.6/dist-packages/ipykernel_launcher.py:5: UserWarning: The `nb_epoch` argument in `fit` has been renamed `epochs`.\n",
            "  \"\"\"\n"
          ],
          "name": "stderr"
        },
        {
          "output_type": "stream",
          "text": [
            "Train on 60000 samples, validate on 10000 samples\n",
            "Epoch 1/30\n",
            "60000/60000 [==============================] - 19s 324us/step - loss: 0.2263 - acc: 0.9417 - val_loss: 0.0887 - val_acc: 0.9780\n",
            "Epoch 2/30\n",
            "60000/60000 [==============================] - 18s 306us/step - loss: 0.1068 - acc: 0.9697 - val_loss: 0.0446 - val_acc: 0.9879\n",
            "Epoch 3/30\n",
            "60000/60000 [==============================] - 18s 306us/step - loss: 0.0852 - acc: 0.9757 - val_loss: 0.0387 - val_acc: 0.9882\n",
            "Epoch 4/30\n",
            "60000/60000 [==============================] - 18s 305us/step - loss: 0.0736 - acc: 0.9783 - val_loss: 0.0355 - val_acc: 0.9888\n",
            "Epoch 5/30\n",
            "60000/60000 [==============================] - 18s 305us/step - loss: 0.0640 - acc: 0.9813 - val_loss: 0.0264 - val_acc: 0.9917\n",
            "Epoch 6/30\n",
            "60000/60000 [==============================] - 18s 305us/step - loss: 0.0620 - acc: 0.9812 - val_loss: 0.0299 - val_acc: 0.9912\n",
            "Epoch 7/30\n",
            "60000/60000 [==============================] - 18s 306us/step - loss: 0.0581 - acc: 0.9832 - val_loss: 0.0279 - val_acc: 0.9920\n",
            "Epoch 8/30\n",
            "60000/60000 [==============================] - 18s 308us/step - loss: 0.0550 - acc: 0.9839 - val_loss: 0.0260 - val_acc: 0.9926\n",
            "Epoch 9/30\n",
            "60000/60000 [==============================] - 18s 303us/step - loss: 0.0515 - acc: 0.9845 - val_loss: 0.0281 - val_acc: 0.9922\n",
            "Epoch 10/30\n",
            "60000/60000 [==============================] - 18s 303us/step - loss: 0.0471 - acc: 0.9860 - val_loss: 0.0240 - val_acc: 0.9933\n",
            "Epoch 11/30\n",
            "60000/60000 [==============================] - 18s 304us/step - loss: 0.0469 - acc: 0.9859 - val_loss: 0.0290 - val_acc: 0.9913\n",
            "Epoch 12/30\n",
            "60000/60000 [==============================] - 18s 304us/step - loss: 0.0460 - acc: 0.9860 - val_loss: 0.0229 - val_acc: 0.9938\n",
            "Epoch 13/30\n",
            "60000/60000 [==============================] - 18s 305us/step - loss: 0.0435 - acc: 0.9869 - val_loss: 0.0198 - val_acc: 0.9937\n",
            "Epoch 14/30\n",
            "60000/60000 [==============================] - 18s 305us/step - loss: 0.0434 - acc: 0.9873 - val_loss: 0.0241 - val_acc: 0.9928\n",
            "Epoch 15/30\n",
            "60000/60000 [==============================] - 18s 305us/step - loss: 0.0412 - acc: 0.9874 - val_loss: 0.0200 - val_acc: 0.9944\n",
            "Epoch 16/30\n",
            "60000/60000 [==============================] - 18s 303us/step - loss: 0.0418 - acc: 0.9876 - val_loss: 0.0201 - val_acc: 0.9935\n",
            "Epoch 17/30\n",
            "60000/60000 [==============================] - 18s 304us/step - loss: 0.0400 - acc: 0.9885 - val_loss: 0.0232 - val_acc: 0.9935\n",
            "Epoch 18/30\n",
            "60000/60000 [==============================] - 18s 302us/step - loss: 0.0410 - acc: 0.9885 - val_loss: 0.0200 - val_acc: 0.9937\n",
            "Epoch 19/30\n",
            "60000/60000 [==============================] - 18s 304us/step - loss: 0.0378 - acc: 0.9889 - val_loss: 0.0216 - val_acc: 0.9934\n",
            "Epoch 20/30\n",
            "60000/60000 [==============================] - 18s 302us/step - loss: 0.0380 - acc: 0.9887 - val_loss: 0.0192 - val_acc: 0.9942\n",
            "Epoch 21/30\n",
            "60000/60000 [==============================] - 18s 301us/step - loss: 0.0357 - acc: 0.9894 - val_loss: 0.0188 - val_acc: 0.9949\n",
            "Epoch 22/30\n",
            "60000/60000 [==============================] - 18s 302us/step - loss: 0.0366 - acc: 0.9887 - val_loss: 0.0218 - val_acc: 0.9940\n",
            "Epoch 23/30\n",
            "60000/60000 [==============================] - 18s 302us/step - loss: 0.0372 - acc: 0.9891 - val_loss: 0.0198 - val_acc: 0.9947\n",
            "Epoch 24/30\n",
            "60000/60000 [==============================] - 18s 305us/step - loss: 0.0339 - acc: 0.9895 - val_loss: 0.0205 - val_acc: 0.9946\n",
            "Epoch 25/30\n",
            "60000/60000 [==============================] - 19s 311us/step - loss: 0.0338 - acc: 0.9900 - val_loss: 0.0198 - val_acc: 0.9940\n",
            "Epoch 26/30\n",
            "60000/60000 [==============================] - 18s 303us/step - loss: 0.0334 - acc: 0.9899 - val_loss: 0.0216 - val_acc: 0.9933\n",
            "Epoch 27/30\n",
            "60000/60000 [==============================] - 18s 304us/step - loss: 0.0336 - acc: 0.9901 - val_loss: 0.0209 - val_acc: 0.9946\n",
            "Epoch 28/30\n",
            "60000/60000 [==============================] - 18s 306us/step - loss: 0.0315 - acc: 0.9901 - val_loss: 0.0210 - val_acc: 0.9940\n",
            "Epoch 29/30\n",
            "60000/60000 [==============================] - 18s 306us/step - loss: 0.0352 - acc: 0.9890 - val_loss: 0.0196 - val_acc: 0.9945\n",
            "Epoch 30/30\n",
            "60000/60000 [==============================] - 18s 305us/step - loss: 0.0329 - acc: 0.9900 - val_loss: 0.0195 - val_acc: 0.9944\n"
          ],
          "name": "stdout"
        },
        {
          "output_type": "execute_result",
          "data": {
            "text/plain": [
              "<keras.callbacks.History at 0x7fbcabac8240>"
            ]
          },
          "metadata": {
            "tags": []
          },
          "execution_count": 13
        }
      ]
    },
    {
      "cell_type": "markdown",
      "metadata": {
        "id": "55iefqRh45of",
        "colab_type": "text"
      },
      "source": [
        "Model accuracy does not change much.\n",
        "\n",
        "**New Model with Regularization**\n",
        "\n",
        "Tried different regularization values and finally best results come with regularization value of 0.005. Though this has little negative impact on the accuracy and overall Learning."
      ]
    },
    {
      "cell_type": "code",
      "metadata": {
        "id": "mVUEzKLHa7fG",
        "colab_type": "code",
        "outputId": "a847c26a-8509-47a8-b002-34a930bfb8ad",
        "colab": {
          "base_uri": "https://localhost:8080/",
          "height": 1000
        }
      },
      "source": [
        "from keras import regularizers\n",
        "\n",
        "model = Sequential()\n",
        "\n",
        "model.add(Convolution2D(16, 3, 3, input_shape=(28,28,1), kernel_regularizer=regularizers.l2(0.005))) #Receptive field 3*3\n",
        "model.add(BatchNormalization())\n",
        "model.add(Activation('relu'))\n",
        "model.add(Dropout(0.05))\n",
        "model.add(Convolution2D(16, 3, 3, kernel_regularizer=regularizers.l2(0.005))) #Receptive field 5*5\n",
        "model.add(BatchNormalization())\n",
        "model.add(Activation('relu'))\n",
        "model.add(Dropout(0.05))\n",
        "model.add(MaxPooling2D()) #Receptive field 6*6\n",
        "model.add(Convolution2D(16, 3, 3, kernel_regularizer=regularizers.l2(0.005))) #Receptive field 10*10\n",
        "model.add(BatchNormalization())\n",
        "model.add(Activation('relu'))\n",
        "model.add(Dropout(0.05))\n",
        "model.add(Convolution2D(16, 3, 3, kernel_regularizer=regularizers.l2(0.005))) #Receptive field 14*14\n",
        "model.add(BatchNormalization())\n",
        "model.add(Activation('relu'))\n",
        "model.add(Dropout(0.05))\n",
        "model.add(Convolution2D(10, 1, kernel_regularizer=regularizers.l2(0.005)))\n",
        "model.add(Convolution2D(10, 8, kernel_regularizer=regularizers.l2(0.005)))\n",
        "model.add(BatchNormalization())\n",
        "model.add(Flatten())\n",
        "model.add(Activation('softmax'))\n",
        "\n",
        "model.summary()"
      ],
      "execution_count": 0,
      "outputs": [
        {
          "output_type": "stream",
          "text": [
            "/usr/local/lib/python3.6/dist-packages/ipykernel_launcher.py:5: UserWarning: Update your `Conv2D` call to the Keras 2 API: `Conv2D(16, (3, 3), input_shape=(28, 28, 1..., kernel_regularizer=<keras.reg...)`\n",
            "  \"\"\"\n",
            "/usr/local/lib/python3.6/dist-packages/ipykernel_launcher.py:9: UserWarning: Update your `Conv2D` call to the Keras 2 API: `Conv2D(16, (3, 3), kernel_regularizer=<keras.reg...)`\n",
            "  if __name__ == '__main__':\n",
            "/usr/local/lib/python3.6/dist-packages/ipykernel_launcher.py:14: UserWarning: Update your `Conv2D` call to the Keras 2 API: `Conv2D(16, (3, 3), kernel_regularizer=<keras.reg...)`\n",
            "  \n"
          ],
          "name": "stderr"
        },
        {
          "output_type": "stream",
          "text": [
            "Model: \"sequential_3\"\n",
            "_________________________________________________________________\n",
            "Layer (type)                 Output Shape              Param #   \n",
            "=================================================================\n",
            "conv2d_13 (Conv2D)           (None, 26, 26, 16)        160       \n",
            "_________________________________________________________________\n",
            "batch_normalization_11 (Batc (None, 26, 26, 16)        64        \n",
            "_________________________________________________________________\n",
            "activation_11 (Activation)   (None, 26, 26, 16)        0         \n",
            "_________________________________________________________________\n",
            "dropout_9 (Dropout)          (None, 26, 26, 16)        0         \n",
            "_________________________________________________________________\n",
            "conv2d_14 (Conv2D)           (None, 24, 24, 16)        2320      \n",
            "_________________________________________________________________\n",
            "batch_normalization_12 (Batc (None, 24, 24, 16)        64        \n",
            "_________________________________________________________________\n",
            "activation_12 (Activation)   (None, 24, 24, 16)        0         \n",
            "_________________________________________________________________\n",
            "dropout_10 (Dropout)         (None, 24, 24, 16)        0         \n",
            "_________________________________________________________________\n",
            "max_pooling2d_3 (MaxPooling2 (None, 12, 12, 16)        0         \n",
            "_________________________________________________________________\n",
            "conv2d_15 (Conv2D)           (None, 10, 10, 16)        2320      \n",
            "_________________________________________________________________\n",
            "batch_normalization_13 (Batc (None, 10, 10, 16)        64        \n",
            "_________________________________________________________________\n",
            "activation_13 (Activation)   (None, 10, 10, 16)        0         \n",
            "_________________________________________________________________\n",
            "dropout_11 (Dropout)         (None, 10, 10, 16)        0         \n",
            "_________________________________________________________________\n",
            "conv2d_16 (Conv2D)           (None, 8, 8, 16)          2320      \n",
            "_________________________________________________________________\n",
            "batch_normalization_14 (Batc (None, 8, 8, 16)          64        \n",
            "_________________________________________________________________\n",
            "activation_14 (Activation)   (None, 8, 8, 16)          0         \n",
            "_________________________________________________________________\n",
            "dropout_12 (Dropout)         (None, 8, 8, 16)          0         \n",
            "_________________________________________________________________\n",
            "conv2d_17 (Conv2D)           (None, 8, 8, 10)          170       \n",
            "_________________________________________________________________\n",
            "conv2d_18 (Conv2D)           (None, 1, 1, 10)          6410      \n",
            "_________________________________________________________________\n",
            "batch_normalization_15 (Batc (None, 1, 1, 10)          40        \n",
            "_________________________________________________________________\n",
            "flatten_3 (Flatten)          (None, 10)                0         \n",
            "_________________________________________________________________\n",
            "activation_15 (Activation)   (None, 10)                0         \n",
            "=================================================================\n",
            "Total params: 13,996\n",
            "Trainable params: 13,848\n",
            "Non-trainable params: 148\n",
            "_________________________________________________________________\n"
          ],
          "name": "stdout"
        },
        {
          "output_type": "stream",
          "text": [
            "/usr/local/lib/python3.6/dist-packages/ipykernel_launcher.py:18: UserWarning: Update your `Conv2D` call to the Keras 2 API: `Conv2D(16, (3, 3), kernel_regularizer=<keras.reg...)`\n"
          ],
          "name": "stderr"
        }
      ]
    },
    {
      "cell_type": "code",
      "metadata": {
        "id": "kq_7Jz8dboim",
        "colab_type": "code",
        "outputId": "c1ba17d2-787d-4c09-c751-0aa16885bf2e",
        "colab": {
          "base_uri": "https://localhost:8080/",
          "height": 1000
        }
      },
      "source": [
        "model.compile(loss='categorical_crossentropy',\n",
        "             optimizer=optimizers.Adam(lr = 0.01, decay=0.0001),\n",
        "             metrics=['accuracy'])\n",
        "model.fit(X_train, Y_train, batch_size=32, nb_epoch=30, verbose=1,\n",
        "          validation_data=(X_test, Y_test))"
      ],
      "execution_count": 0,
      "outputs": [
        {
          "output_type": "stream",
          "text": [
            "/usr/local/lib/python3.6/dist-packages/ipykernel_launcher.py:5: UserWarning: The `nb_epoch` argument in `fit` has been renamed `epochs`.\n",
            "  \"\"\"\n"
          ],
          "name": "stderr"
        },
        {
          "output_type": "stream",
          "text": [
            "Train on 60000 samples, validate on 10000 samples\n",
            "Epoch 1/30\n",
            "60000/60000 [==============================] - 21s 345us/step - loss: 0.4916 - acc: 0.9234 - val_loss: 0.3596 - val_acc: 0.9502\n",
            "Epoch 2/30\n",
            "60000/60000 [==============================] - 19s 323us/step - loss: 0.3728 - acc: 0.9385 - val_loss: 0.3383 - val_acc: 0.9460\n",
            "Epoch 3/30\n",
            "60000/60000 [==============================] - 19s 321us/step - loss: 0.3280 - acc: 0.9467 - val_loss: 0.3284 - val_acc: 0.9444\n",
            "Epoch 4/30\n",
            "60000/60000 [==============================] - 19s 320us/step - loss: 0.2980 - acc: 0.9503 - val_loss: 0.3486 - val_acc: 0.9358\n",
            "Epoch 5/30\n",
            "60000/60000 [==============================] - 19s 321us/step - loss: 0.2827 - acc: 0.9529 - val_loss: 0.2720 - val_acc: 0.9546\n",
            "Epoch 6/30\n",
            "60000/60000 [==============================] - 19s 321us/step - loss: 0.2586 - acc: 0.9562 - val_loss: 0.2015 - val_acc: 0.9731\n",
            "Epoch 7/30\n",
            "60000/60000 [==============================] - 19s 320us/step - loss: 0.2494 - acc: 0.9577 - val_loss: 0.3804 - val_acc: 0.9190\n",
            "Epoch 8/30\n",
            "60000/60000 [==============================] - 19s 318us/step - loss: 0.2371 - acc: 0.9587 - val_loss: 0.2130 - val_acc: 0.9655\n",
            "Epoch 9/30\n",
            "60000/60000 [==============================] - 19s 321us/step - loss: 0.2270 - acc: 0.9602 - val_loss: 0.2790 - val_acc: 0.9458\n",
            "Epoch 10/30\n",
            "60000/60000 [==============================] - 19s 320us/step - loss: 0.2200 - acc: 0.9609 - val_loss: 0.4872 - val_acc: 0.8519\n",
            "Epoch 11/30\n",
            "60000/60000 [==============================] - 20s 329us/step - loss: 0.2087 - acc: 0.9618 - val_loss: 0.1622 - val_acc: 0.9768\n",
            "Epoch 12/30\n",
            "60000/60000 [==============================] - 19s 321us/step - loss: 0.2012 - acc: 0.9639 - val_loss: 0.1925 - val_acc: 0.9668\n",
            "Epoch 13/30\n",
            "60000/60000 [==============================] - 19s 321us/step - loss: 0.1946 - acc: 0.9643 - val_loss: 0.1581 - val_acc: 0.9745\n",
            "Epoch 14/30\n",
            "60000/60000 [==============================] - 19s 323us/step - loss: 0.1909 - acc: 0.9657 - val_loss: 0.1951 - val_acc: 0.9625\n",
            "Epoch 15/30\n",
            "60000/60000 [==============================] - 20s 325us/step - loss: 0.1873 - acc: 0.9662 - val_loss: 0.1870 - val_acc: 0.9644\n",
            "Epoch 16/30\n",
            "60000/60000 [==============================] - 19s 322us/step - loss: 0.1805 - acc: 0.9672 - val_loss: 0.1527 - val_acc: 0.9754\n",
            "Epoch 17/30\n",
            "60000/60000 [==============================] - 19s 322us/step - loss: 0.1759 - acc: 0.9675 - val_loss: 0.1361 - val_acc: 0.9784\n",
            "Epoch 18/30\n",
            "60000/60000 [==============================] - 19s 321us/step - loss: 0.1715 - acc: 0.9696 - val_loss: 0.1607 - val_acc: 0.9707\n",
            "Epoch 19/30\n",
            "60000/60000 [==============================] - 19s 323us/step - loss: 0.1729 - acc: 0.9672 - val_loss: 0.1505 - val_acc: 0.9756\n",
            "Epoch 20/30\n",
            "60000/60000 [==============================] - 19s 320us/step - loss: 0.1662 - acc: 0.9684 - val_loss: 0.1723 - val_acc: 0.9642\n",
            "Epoch 21/30\n",
            "60000/60000 [==============================] - 19s 322us/step - loss: 0.1617 - acc: 0.9699 - val_loss: 0.1393 - val_acc: 0.9760\n",
            "Epoch 22/30\n",
            "60000/60000 [==============================] - 19s 321us/step - loss: 0.1602 - acc: 0.9702 - val_loss: 0.2112 - val_acc: 0.9549\n",
            "Epoch 23/30\n",
            "60000/60000 [==============================] - 19s 321us/step - loss: 0.1559 - acc: 0.9703 - val_loss: 0.1139 - val_acc: 0.9835\n",
            "Epoch 24/30\n",
            "60000/60000 [==============================] - 19s 320us/step - loss: 0.1542 - acc: 0.9708 - val_loss: 0.1248 - val_acc: 0.9785\n",
            "Epoch 25/30\n",
            "60000/60000 [==============================] - 19s 318us/step - loss: 0.1526 - acc: 0.9709 - val_loss: 0.1125 - val_acc: 0.9825\n",
            "Epoch 26/30\n",
            "60000/60000 [==============================] - 19s 321us/step - loss: 0.1473 - acc: 0.9716 - val_loss: 0.1410 - val_acc: 0.9750\n",
            "Epoch 27/30\n",
            "60000/60000 [==============================] - 20s 328us/step - loss: 0.1469 - acc: 0.9718 - val_loss: 0.1060 - val_acc: 0.9846\n",
            "Epoch 28/30\n",
            "60000/60000 [==============================] - 19s 320us/step - loss: 0.1429 - acc: 0.9727 - val_loss: 0.1151 - val_acc: 0.9806\n",
            "Epoch 29/30\n",
            "60000/60000 [==============================] - 19s 320us/step - loss: 0.1421 - acc: 0.9732 - val_loss: 0.1158 - val_acc: 0.9813\n",
            "Epoch 30/30\n",
            "60000/60000 [==============================] - 19s 321us/step - loss: 0.1386 - acc: 0.9741 - val_loss: 0.1164 - val_acc: 0.9797\n"
          ],
          "name": "stdout"
        },
        {
          "output_type": "execute_result",
          "data": {
            "text/plain": [
              "<keras.callbacks.History at 0x7fbce6f4bba8>"
            ]
          },
          "metadata": {
            "tags": []
          },
          "execution_count": 15
        }
      ]
    },
    {
      "cell_type": "markdown",
      "metadata": {
        "id": "YCJxWC18u458",
        "colab_type": "text"
      },
      "source": [
        "**Implement Image Normalization**\n",
        "\n",
        "In this model regularization has been removed because it was having negative impact."
      ]
    },
    {
      "cell_type": "code",
      "metadata": {
        "id": "BNBidzZz2JX9",
        "colab_type": "code",
        "colab": {}
      },
      "source": [
        "(X_train, y_train), (X_test, y_test) = mnist.load_data()\n",
        "# Normalizing the input\n",
        "X_train= X_train.reshape(X_train.shape[0], 28, 28, 1)\n",
        "X_train = X_train.astype('float32')\n",
        "X_train/=255\n",
        "X_test = X_test.reshape(X_test.shape[0],28,28,1)\n",
        "X_test = X_test.astype('float32')\n",
        "X_test/=255\n",
        "y_train = np_utils.to_categorical(y_train)\n",
        "y_test= np_utils.to_categorical(y_test)\n"
      ],
      "execution_count": 0,
      "outputs": []
    },
    {
      "cell_type": "code",
      "metadata": {
        "id": "C_3AsZ0cmgDX",
        "colab_type": "code",
        "outputId": "7cff2e5a-2390-4315-b68c-72d5ba9cdcf3",
        "colab": {
          "base_uri": "https://localhost:8080/",
          "height": 901
        }
      },
      "source": [
        "from keras import regularizers\n",
        "\n",
        "model = Sequential()\n",
        "\n",
        "model.add(Convolution2D(16, (3, 3), input_shape=(28,28,1))) #Receptive field 3*3\n",
        "model.add(BatchNormalization())\n",
        "model.add(Activation('relu'))\n",
        "model.add(Dropout(0.05))\n",
        "model.add(Convolution2D(16, (3, 3))) #Receptive field 5*5\n",
        "model.add(BatchNormalization())\n",
        "model.add(Activation('relu'))\n",
        "model.add(Dropout(0.05))\n",
        "model.add(MaxPooling2D()) #Receptive field 6*6\n",
        "model.add(Convolution2D(16, (3, 3))) #Receptive field 10*10\n",
        "model.add(BatchNormalization())\n",
        "model.add(Activation('relu'))\n",
        "model.add(Dropout(0.05))\n",
        "model.add(Convolution2D(16, (3, 3))) #Receptive field 14*14\n",
        "model.add(BatchNormalization())\n",
        "model.add(Activation('relu'))\n",
        "model.add(Dropout(0.05))\n",
        "model.add(Convolution2D(10, (1, 1)))\n",
        "model.add(Convolution2D(10, (8, 8)))\n",
        "model.add(BatchNormalization())\n",
        "model.add(Flatten())\n",
        "model.add(Activation('softmax'))\n",
        "\n",
        "\n",
        "model.summary()"
      ],
      "execution_count": 0,
      "outputs": [
        {
          "output_type": "stream",
          "text": [
            "Model: \"sequential_4\"\n",
            "_________________________________________________________________\n",
            "Layer (type)                 Output Shape              Param #   \n",
            "=================================================================\n",
            "conv2d_19 (Conv2D)           (None, 26, 26, 16)        160       \n",
            "_________________________________________________________________\n",
            "batch_normalization_16 (Batc (None, 26, 26, 16)        64        \n",
            "_________________________________________________________________\n",
            "activation_16 (Activation)   (None, 26, 26, 16)        0         \n",
            "_________________________________________________________________\n",
            "dropout_13 (Dropout)         (None, 26, 26, 16)        0         \n",
            "_________________________________________________________________\n",
            "conv2d_20 (Conv2D)           (None, 24, 24, 16)        2320      \n",
            "_________________________________________________________________\n",
            "batch_normalization_17 (Batc (None, 24, 24, 16)        64        \n",
            "_________________________________________________________________\n",
            "activation_17 (Activation)   (None, 24, 24, 16)        0         \n",
            "_________________________________________________________________\n",
            "dropout_14 (Dropout)         (None, 24, 24, 16)        0         \n",
            "_________________________________________________________________\n",
            "max_pooling2d_4 (MaxPooling2 (None, 12, 12, 16)        0         \n",
            "_________________________________________________________________\n",
            "conv2d_21 (Conv2D)           (None, 10, 10, 16)        2320      \n",
            "_________________________________________________________________\n",
            "batch_normalization_18 (Batc (None, 10, 10, 16)        64        \n",
            "_________________________________________________________________\n",
            "activation_18 (Activation)   (None, 10, 10, 16)        0         \n",
            "_________________________________________________________________\n",
            "dropout_15 (Dropout)         (None, 10, 10, 16)        0         \n",
            "_________________________________________________________________\n",
            "conv2d_22 (Conv2D)           (None, 8, 8, 16)          2320      \n",
            "_________________________________________________________________\n",
            "batch_normalization_19 (Batc (None, 8, 8, 16)          64        \n",
            "_________________________________________________________________\n",
            "activation_19 (Activation)   (None, 8, 8, 16)          0         \n",
            "_________________________________________________________________\n",
            "dropout_16 (Dropout)         (None, 8, 8, 16)          0         \n",
            "_________________________________________________________________\n",
            "conv2d_23 (Conv2D)           (None, 8, 8, 10)          170       \n",
            "_________________________________________________________________\n",
            "conv2d_24 (Conv2D)           (None, 1, 1, 10)          6410      \n",
            "_________________________________________________________________\n",
            "batch_normalization_20 (Batc (None, 1, 1, 10)          40        \n",
            "_________________________________________________________________\n",
            "flatten_4 (Flatten)          (None, 10)                0         \n",
            "_________________________________________________________________\n",
            "activation_20 (Activation)   (None, 10)                0         \n",
            "=================================================================\n",
            "Total params: 13,996\n",
            "Trainable params: 13,848\n",
            "Non-trainable params: 148\n",
            "_________________________________________________________________\n"
          ],
          "name": "stdout"
        }
      ]
    },
    {
      "cell_type": "code",
      "metadata": {
        "id": "AvI85LqOlbFQ",
        "colab_type": "code",
        "colab": {}
      },
      "source": [
        "from keras.preprocessing.image import ImageDataGenerator\n",
        "# applying transformation to image\n",
        "train_gen = ImageDataGenerator(rotation_range=8, \n",
        "                               width_shift_range=0.08, \n",
        "                               shear_range=0.3, \n",
        "                               height_shift_range=0.08, \n",
        "                               zoom_range=0.08 )\n",
        "test_gen = ImageDataGenerator()\n",
        "\n",
        "training_set= train_gen.flow(X_train, y_train, batch_size=32)\n",
        "test_set= train_gen.flow(X_test, y_test, batch_size=32)"
      ],
      "execution_count": 0,
      "outputs": []
    },
    {
      "cell_type": "code",
      "metadata": {
        "id": "_m5XtL3TlkBs",
        "colab_type": "code",
        "outputId": "f02993d6-5782-4f96-ece7-8cfe8e35968d",
        "colab": {
          "base_uri": "https://localhost:8080/",
          "height": 1000
        }
      },
      "source": [
        "model.compile(loss='categorical_crossentropy',\n",
        "             optimizer=optimizers.Adam(lr = 0.01, decay=0.0001),\n",
        "             metrics=['accuracy'])\n",
        "              \n",
        "model.fit_generator(training_set, \n",
        "                         steps_per_epoch=60000//32, \n",
        "                         validation_data= test_set, \n",
        "                         validation_steps=10000//32, \n",
        "                         epochs=30)"
      ],
      "execution_count": 0,
      "outputs": [
        {
          "output_type": "stream",
          "text": [
            "Epoch 1/30\n",
            "1875/1875 [==============================] - 29s 15ms/step - loss: 0.2634 - acc: 0.9291 - val_loss: 0.0816 - val_acc: 0.9781\n",
            "Epoch 2/30\n",
            "1875/1875 [==============================] - 27s 14ms/step - loss: 0.1204 - acc: 0.9650 - val_loss: 0.0690 - val_acc: 0.9786\n",
            "Epoch 3/30\n",
            "1875/1875 [==============================] - 27s 14ms/step - loss: 0.0973 - acc: 0.9713 - val_loss: 0.0489 - val_acc: 0.9854\n",
            "Epoch 4/30\n",
            "1875/1875 [==============================] - 27s 14ms/step - loss: 0.0836 - acc: 0.9760 - val_loss: 0.0407 - val_acc: 0.9873\n",
            "Epoch 5/30\n",
            "1875/1875 [==============================] - 27s 14ms/step - loss: 0.0745 - acc: 0.9782 - val_loss: 0.0383 - val_acc: 0.9888\n",
            "Epoch 6/30\n",
            "1875/1875 [==============================] - 27s 14ms/step - loss: 0.0686 - acc: 0.9800 - val_loss: 0.0404 - val_acc: 0.9872\n",
            "Epoch 7/30\n",
            "1875/1875 [==============================] - 27s 14ms/step - loss: 0.0634 - acc: 0.9817 - val_loss: 0.0353 - val_acc: 0.9891\n",
            "Epoch 8/30\n",
            "1875/1875 [==============================] - 27s 14ms/step - loss: 0.0587 - acc: 0.9832 - val_loss: 0.0333 - val_acc: 0.9896\n",
            "Epoch 9/30\n",
            "1875/1875 [==============================] - 27s 14ms/step - loss: 0.0566 - acc: 0.9832 - val_loss: 0.0295 - val_acc: 0.9906\n",
            "Epoch 10/30\n",
            "1875/1875 [==============================] - 27s 14ms/step - loss: 0.0542 - acc: 0.9846 - val_loss: 0.0320 - val_acc: 0.9905\n",
            "Epoch 11/30\n",
            "1875/1875 [==============================] - 27s 14ms/step - loss: 0.0539 - acc: 0.9841 - val_loss: 0.0254 - val_acc: 0.9916\n",
            "Epoch 12/30\n",
            "1875/1875 [==============================] - 27s 14ms/step - loss: 0.0511 - acc: 0.9851 - val_loss: 0.0305 - val_acc: 0.9905\n",
            "Epoch 13/30\n",
            "1875/1875 [==============================] - 27s 14ms/step - loss: 0.0480 - acc: 0.9860 - val_loss: 0.0288 - val_acc: 0.9917\n",
            "Epoch 14/30\n",
            "1875/1875 [==============================] - 27s 14ms/step - loss: 0.0483 - acc: 0.9859 - val_loss: 0.0255 - val_acc: 0.9922\n",
            "Epoch 15/30\n",
            "1875/1875 [==============================] - 27s 14ms/step - loss: 0.0451 - acc: 0.9869 - val_loss: 0.0274 - val_acc: 0.9926\n",
            "Epoch 16/30\n",
            "1875/1875 [==============================] - 27s 14ms/step - loss: 0.0459 - acc: 0.9869 - val_loss: 0.0246 - val_acc: 0.9917\n",
            "Epoch 17/30\n",
            "1875/1875 [==============================] - 27s 14ms/step - loss: 0.0449 - acc: 0.9869 - val_loss: 0.0250 - val_acc: 0.9926\n",
            "Epoch 18/30\n",
            "1875/1875 [==============================] - 27s 14ms/step - loss: 0.0443 - acc: 0.9868 - val_loss: 0.0235 - val_acc: 0.9931\n",
            "Epoch 19/30\n",
            "1875/1875 [==============================] - 27s 14ms/step - loss: 0.0427 - acc: 0.9876 - val_loss: 0.0213 - val_acc: 0.9931\n",
            "Epoch 20/30\n",
            "1875/1875 [==============================] - 26s 14ms/step - loss: 0.0416 - acc: 0.9879 - val_loss: 0.0228 - val_acc: 0.9935\n",
            "Epoch 21/30\n",
            "1875/1875 [==============================] - 27s 14ms/step - loss: 0.0406 - acc: 0.9877 - val_loss: 0.0223 - val_acc: 0.9935\n",
            "Epoch 22/30\n",
            "1875/1875 [==============================] - 27s 14ms/step - loss: 0.0425 - acc: 0.9871 - val_loss: 0.0246 - val_acc: 0.9925\n",
            "Epoch 23/30\n",
            "1875/1875 [==============================] - 27s 14ms/step - loss: 0.0394 - acc: 0.9882 - val_loss: 0.0199 - val_acc: 0.9941\n",
            "Epoch 24/30\n",
            "1875/1875 [==============================] - 27s 14ms/step - loss: 0.0395 - acc: 0.9885 - val_loss: 0.0367 - val_acc: 0.9894\n",
            "Epoch 25/30\n",
            "1875/1875 [==============================] - 27s 14ms/step - loss: 0.0398 - acc: 0.9878 - val_loss: 0.0207 - val_acc: 0.9941\n",
            "Epoch 26/30\n",
            "1875/1875 [==============================] - 27s 14ms/step - loss: 0.0371 - acc: 0.9888 - val_loss: 0.0211 - val_acc: 0.9937\n",
            "Epoch 27/30\n",
            "1875/1875 [==============================] - 26s 14ms/step - loss: 0.0378 - acc: 0.9884 - val_loss: 0.0220 - val_acc: 0.9934\n",
            "Epoch 28/30\n",
            "1875/1875 [==============================] - 27s 14ms/step - loss: 0.0376 - acc: 0.9890 - val_loss: 0.0204 - val_acc: 0.9933\n",
            "Epoch 29/30\n",
            "1875/1875 [==============================] - 27s 14ms/step - loss: 0.0356 - acc: 0.9890 - val_loss: 0.0208 - val_acc: 0.9932\n",
            "Epoch 30/30\n",
            "1875/1875 [==============================] - 27s 14ms/step - loss: 0.0373 - acc: 0.9886 - val_loss: 0.0208 - val_acc: 0.9930\n"
          ],
          "name": "stdout"
        },
        {
          "output_type": "execute_result",
          "data": {
            "text/plain": [
              "<keras.callbacks.History at 0x7fbcab6c27f0>"
            ]
          },
          "metadata": {
            "tags": []
          },
          "execution_count": 19
        }
      ]
    }
  ]
}