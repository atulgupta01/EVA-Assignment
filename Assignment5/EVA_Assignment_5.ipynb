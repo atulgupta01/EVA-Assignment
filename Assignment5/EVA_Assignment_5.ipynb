{
  "nbformat": 4,
  "nbformat_minor": 0,
  "metadata": {
    "colab": {
      "name": "EVA_Assignment_5.ipynb",
      "provenance": [],
      "collapsed_sections": [],
      "toc_visible": true
    },
    "kernelspec": {
      "name": "python3",
      "display_name": "Python 3"
    },
    "accelerator": "GPU"
  },
  "cells": [
    {
      "cell_type": "markdown",
      "metadata": {
        "id": "aNyZv-Ec52ot",
        "colab_type": "text"
      },
      "source": [
        "# **Import Libraries and modules**"
      ]
    },
    {
      "cell_type": "code",
      "metadata": {
        "id": "3m3w1Cw49Zkt",
        "colab_type": "code",
        "outputId": "4a330aa8-9f30-45f7-f9b9-ce017d848323",
        "colab": {
          "base_uri": "https://localhost:8080/",
          "height": 34
        }
      },
      "source": [
        "# https://keras.io/\n",
        "!pip install -q keras\n",
        "import keras"
      ],
      "execution_count": 1,
      "outputs": [
        {
          "output_type": "stream",
          "text": [
            "Using TensorFlow backend.\n"
          ],
          "name": "stderr"
        }
      ]
    },
    {
      "cell_type": "code",
      "metadata": {
        "id": "Eso6UHE080D4",
        "colab_type": "code",
        "colab": {}
      },
      "source": [
        "import numpy as np\n",
        "\n",
        "from keras.models import Sequential\n",
        "from keras.layers import Dense, Dropout, Activation, Flatten, Add\n",
        "from keras.layers import Convolution2D, MaxPooling2D\n",
        "from keras.utils import np_utils\n",
        "from keras.layers.normalization import BatchNormalization\n",
        "from keras import optimizers\n",
        "from keras.callbacks import ModelCheckpoint\n",
        "\n",
        "from keras.datasets import mnist"
      ],
      "execution_count": 0,
      "outputs": []
    },
    {
      "cell_type": "markdown",
      "metadata": {
        "id": "zByEi95J86RD",
        "colab_type": "text"
      },
      "source": [
        "### Load pre-shuffled MNIST data into train and test sets"
      ]
    },
    {
      "cell_type": "code",
      "metadata": {
        "id": "7eRM0QWN83PV",
        "colab_type": "code",
        "colab": {}
      },
      "source": [
        "(X_train, y_train), (X_test, y_test) = mnist.load_data()"
      ],
      "execution_count": 0,
      "outputs": []
    },
    {
      "cell_type": "code",
      "metadata": {
        "id": "4a4Be72j8-ZC",
        "colab_type": "code",
        "outputId": "997af37a-6f45-4af1-eeef-57295c625e0c",
        "colab": {
          "base_uri": "https://localhost:8080/",
          "height": 303
        }
      },
      "source": [
        "print (X_train.shape)\n",
        "from matplotlib import pyplot as plt\n",
        "%matplotlib inline\n",
        "plt.imshow(X_train[0])"
      ],
      "execution_count": 4,
      "outputs": [
        {
          "output_type": "stream",
          "text": [
            "(60000, 28, 28)\n"
          ],
          "name": "stdout"
        },
        {
          "output_type": "execute_result",
          "data": {
            "text/plain": [
              "<matplotlib.image.AxesImage at 0x7f62724b88d0>"
            ]
          },
          "metadata": {
            "tags": []
          },
          "execution_count": 4
        },
        {
          "output_type": "display_data",
          "data": {
            "image/png": "[encoded data removed]",
            "text/plain": [
              "<Figure size 432x288 with 1 Axes>"
            ]
          },
          "metadata": {
            "tags": []
          }
        }
      ]
    },
    {
      "cell_type": "code",
      "metadata": {
        "id": "dkmprriw9AnZ",
        "colab_type": "code",
        "colab": {}
      },
      "source": [
        "X_train = X_train.reshape(X_train.shape[0], 28, 28,1)\n",
        "X_test = X_test.reshape(X_test.shape[0], 28, 28,1)"
      ],
      "execution_count": 0,
      "outputs": []
    },
    {
      "cell_type": "code",
      "metadata": {
        "id": "X2m4YS4E9CRh",
        "colab_type": "code",
        "colab": {}
      },
      "source": [
        "X_train = X_train.astype('float32')\n",
        "X_test = X_test.astype('float32')\n",
        "X_train /= 255\n",
        "X_test /= 255"
      ],
      "execution_count": 0,
      "outputs": []
    },
    {
      "cell_type": "code",
      "metadata": {
        "id": "0Mn0vAYD9DvB",
        "colab_type": "code",
        "outputId": "cd70bd0e-3b81-42c8-af4b-4799b7fafc37",
        "colab": {
          "base_uri": "https://localhost:8080/",
          "height": 34
        }
      },
      "source": [
        "y_train[:10]"
      ],
      "execution_count": 7,
      "outputs": [
        {
          "output_type": "execute_result",
          "data": {
            "text/plain": [
              "array([5, 0, 4, 1, 9, 2, 1, 3, 1, 4], dtype=uint8)"
            ]
          },
          "metadata": {
            "tags": []
          },
          "execution_count": 7
        }
      ]
    },
    {
      "cell_type": "code",
      "metadata": {
        "id": "ZG8JiXR39FHC",
        "colab_type": "code",
        "colab": {}
      },
      "source": [
        "# Convert 1-dimensional class arrays to 10-dimensional class matrices\n",
        "Y_train = np_utils.to_categorical(y_train, 10)\n",
        "Y_test = np_utils.to_categorical(y_test, 10)"
      ],
      "execution_count": 0,
      "outputs": []
    },
    {
      "cell_type": "code",
      "metadata": {
        "id": "fYlFRvKS9HMB",
        "colab_type": "code",
        "outputId": "ddbe7f07-85ca-4e34-82d1-3942e0d5fb83",
        "colab": {
          "base_uri": "https://localhost:8080/",
          "height": 187
        }
      },
      "source": [
        "Y_train[:10]\n"
      ],
      "execution_count": 9,
      "outputs": [
        {
          "output_type": "execute_result",
          "data": {
            "text/plain": [
              "array([[0., 0., 0., 0., 0., 1., 0., 0., 0., 0.],\n",
              "       [1., 0., 0., 0., 0., 0., 0., 0., 0., 0.],\n",
              "       [0., 0., 0., 0., 1., 0., 0., 0., 0., 0.],\n",
              "       [0., 1., 0., 0., 0., 0., 0., 0., 0., 0.],\n",
              "       [0., 0., 0., 0., 0., 0., 0., 0., 0., 1.],\n",
              "       [0., 0., 1., 0., 0., 0., 0., 0., 0., 0.],\n",
              "       [0., 1., 0., 0., 0., 0., 0., 0., 0., 0.],\n",
              "       [0., 0., 0., 1., 0., 0., 0., 0., 0., 0.],\n",
              "       [0., 1., 0., 0., 0., 0., 0., 0., 0., 0.],\n",
              "       [0., 0., 0., 0., 1., 0., 0., 0., 0., 0.]], dtype=float32)"
            ]
          },
          "metadata": {
            "tags": []
          },
          "execution_count": 9
        }
      ]
    },
    {
      "cell_type": "markdown",
      "metadata": {
        "id": "2kuRFaZfGRRh",
        "colab_type": "text"
      },
      "source": [
        "**MODEL-1**\n",
        "\n",
        "**Forth Model from last assignment**\n",
        "\n",
        "This model is taken from the last assignment and gave best validation accuracy. The accuracy changes in every run however, it has been more than 99.40% always."
      ]
    },
    {
      "cell_type": "code",
      "metadata": {
        "id": "Q8r84J4tGYn-",
        "colab_type": "code",
        "outputId": "7e95583f-d8db-42ad-b76c-bb59330b6a03",
        "colab": {
          "base_uri": "https://localhost:8080/",
          "height": 1000
        }
      },
      "source": [
        "model = Sequential()\n",
        "\n",
        " \n",
        "model.add(Convolution2D(16, 3, 3, input_shape=(28,28,1))) #Receptive field 3*3\n",
        "model.add(Activation('relu'))\n",
        "model.add(BatchNormalization())\n",
        "model.add(Dropout(0.25))\n",
        "model.add(Convolution2D(16, 3, 3)) #Receptive field 5*5\n",
        "model.add(Activation('relu'))\n",
        "model.add(BatchNormalization())\n",
        "model.add(Dropout(0.25))\n",
        "model.add(MaxPooling2D()) #Receptive field 6*6\n",
        "model.add(Convolution2D(16, 3, 3)) #Receptive field 10*10\n",
        "model.add(Activation('relu'))\n",
        "model.add(BatchNormalization())\n",
        "model.add(Dropout(0.25))\n",
        "model.add(Convolution2D(16, 3, 3)) #Receptive field 14*14\n",
        "model.add(Activation('relu'))\n",
        "model.add(BatchNormalization())\n",
        "model.add(Dropout(0.25))\n",
        "model.add(Convolution2D(10, 1))\n",
        "model.add(Convolution2D(10, 8))\n",
        "model.add(BatchNormalization())\n",
        "model.add(Flatten())\n",
        "model.add(Activation('softmax'))\n",
        "\n",
        "model.summary()"
      ],
      "execution_count": 10,
      "outputs": [
        {
          "output_type": "stream",
          "text": [
            "WARNING:tensorflow:From /usr/local/lib/python3.6/dist-packages/keras/backend/tensorflow_backend.py:66: The name tf.get_default_graph is deprecated. Please use tf.compat.v1.get_default_graph instead.\n",
            "\n",
            "WARNING:tensorflow:From /usr/local/lib/python3.6/dist-packages/keras/backend/tensorflow_backend.py:541: The name tf.placeholder is deprecated. Please use tf.compat.v1.placeholder instead.\n",
            "\n",
            "WARNING:tensorflow:From /usr/local/lib/python3.6/dist-packages/keras/backend/tensorflow_backend.py:4432: The name tf.random_uniform is deprecated. Please use tf.random.uniform instead.\n",
            "\n",
            "WARNING:tensorflow:From /usr/local/lib/python3.6/dist-packages/keras/backend/tensorflow_backend.py:190: The name tf.get_default_session is deprecated. Please use tf.compat.v1.get_default_session instead.\n",
            "\n",
            "WARNING:tensorflow:From /usr/local/lib/python3.6/dist-packages/keras/backend/tensorflow_backend.py:197: The name tf.ConfigProto is deprecated. Please use tf.compat.v1.ConfigProto instead.\n",
            "\n"
          ],
          "name": "stdout"
        },
        {
          "output_type": "stream",
          "text": [
            "/usr/local/lib/python3.6/dist-packages/ipykernel_launcher.py:4: UserWarning: Update your `Conv2D` call to the Keras 2 API: `Conv2D(16, (3, 3), input_shape=(28, 28, 1...)`\n",
            "  after removing the cwd from sys.path.\n"
          ],
          "name": "stderr"
        },
        {
          "output_type": "stream",
          "text": [
            "WARNING:tensorflow:From /usr/local/lib/python3.6/dist-packages/keras/backend/tensorflow_backend.py:2041: The name tf.nn.fused_batch_norm is deprecated. Please use tf.compat.v1.nn.fused_batch_norm instead.\n",
            "\n",
            "WARNING:tensorflow:From /usr/local/lib/python3.6/dist-packages/keras/backend/tensorflow_backend.py:3733: calling dropout (from tensorflow.python.ops.nn_ops) with keep_prob is deprecated and will be removed in a future version.\n",
            "Instructions for updating:\n",
            "Please use `rate` instead of `keep_prob`. Rate should be set to `rate = 1 - keep_prob`.\n",
            "WARNING:tensorflow:From /usr/local/lib/python3.6/dist-packages/keras/backend/tensorflow_backend.py:4267: The name tf.nn.max_pool is deprecated. Please use tf.nn.max_pool2d instead.\n",
            "\n"
          ],
          "name": "stdout"
        },
        {
          "output_type": "stream",
          "text": [
            "/usr/local/lib/python3.6/dist-packages/ipykernel_launcher.py:8: UserWarning: Update your `Conv2D` call to the Keras 2 API: `Conv2D(16, (3, 3))`\n",
            "  \n",
            "/usr/local/lib/python3.6/dist-packages/ipykernel_launcher.py:13: UserWarning: Update your `Conv2D` call to the Keras 2 API: `Conv2D(16, (3, 3))`\n",
            "  del sys.path[0]\n",
            "/usr/local/lib/python3.6/dist-packages/ipykernel_launcher.py:17: UserWarning: Update your `Conv2D` call to the Keras 2 API: `Conv2D(16, (3, 3))`\n"
          ],
          "name": "stderr"
        },
        {
          "output_type": "stream",
          "text": [
            "Model: \"sequential_1\"\n",
            "_________________________________________________________________\n",
            "Layer (type)                 Output Shape              Param #   \n",
            "=================================================================\n",
            "conv2d_1 (Conv2D)            (None, 26, 26, 16)        160       \n",
            "_________________________________________________________________\n",
            "activation_1 (Activation)    (None, 26, 26, 16)        0         \n",
            "_________________________________________________________________\n",
            "batch_normalization_1 (Batch (None, 26, 26, 16)        64        \n",
            "_________________________________________________________________\n",
            "dropout_1 (Dropout)          (None, 26, 26, 16)        0         \n",
            "_________________________________________________________________\n",
            "conv2d_2 (Conv2D)            (None, 24, 24, 16)        2320      \n",
            "_________________________________________________________________\n",
            "activation_2 (Activation)    (None, 24, 24, 16)        0         \n",
            "_________________________________________________________________\n",
            "batch_normalization_2 (Batch (None, 24, 24, 16)        64        \n",
            "_________________________________________________________________\n",
            "dropout_2 (Dropout)          (None, 24, 24, 16)        0         \n",
            "_________________________________________________________________\n",
            "max_pooling2d_1 (MaxPooling2 (None, 12, 12, 16)        0         \n",
            "_________________________________________________________________\n",
            "conv2d_3 (Conv2D)            (None, 10, 10, 16)        2320      \n",
            "_________________________________________________________________\n",
            "activation_3 (Activation)    (None, 10, 10, 16)        0         \n",
            "_________________________________________________________________\n",
            "batch_normalization_3 (Batch (None, 10, 10, 16)        64        \n",
            "_________________________________________________________________\n",
            "dropout_3 (Dropout)          (None, 10, 10, 16)        0         \n",
            "_________________________________________________________________\n",
            "conv2d_4 (Conv2D)            (None, 8, 8, 16)          2320      \n",
            "_________________________________________________________________\n",
            "activation_4 (Activation)    (None, 8, 8, 16)          0         \n",
            "_________________________________________________________________\n",
            "batch_normalization_4 (Batch (None, 8, 8, 16)          64        \n",
            "_________________________________________________________________\n",
            "dropout_4 (Dropout)          (None, 8, 8, 16)          0         \n",
            "_________________________________________________________________\n",
            "conv2d_5 (Conv2D)            (None, 8, 8, 10)          170       \n",
            "_________________________________________________________________\n",
            "conv2d_6 (Conv2D)            (None, 1, 1, 10)          6410      \n",
            "_________________________________________________________________\n",
            "batch_normalization_5 (Batch (None, 1, 1, 10)          40        \n",
            "_________________________________________________________________\n",
            "flatten_1 (Flatten)          (None, 10)                0         \n",
            "_________________________________________________________________\n",
            "activation_5 (Activation)    (None, 10)                0         \n",
            "=================================================================\n",
            "Total params: 13,996\n",
            "Trainable params: 13,848\n",
            "Non-trainable params: 148\n",
            "_________________________________________________________________\n"
          ],
          "name": "stdout"
        }
      ]
    },
    {
      "cell_type": "code",
      "metadata": {
        "id": "RspDZqwdGdsd",
        "colab_type": "code",
        "outputId": "576f5fc3-68be-4d82-f79b-3b8d15410b4f",
        "colab": {
          "base_uri": "https://localhost:8080/",
          "height": 1000
        }
      },
      "source": [
        "model.compile(loss='categorical_crossentropy',\n",
        "             optimizer=optimizers.Adam(lr = 0.01, decay = 0.0001),\n",
        "             metrics=['accuracy'])\n",
        "model.fit(X_train, Y_train, batch_size=32, nb_epoch=30, verbose=1,\n",
        "          validation_data=(X_test, Y_test))"
      ],
      "execution_count": 11,
      "outputs": [
        {
          "output_type": "stream",
          "text": [
            "WARNING:tensorflow:From /usr/local/lib/python3.6/dist-packages/keras/optimizers.py:793: The name tf.train.Optimizer is deprecated. Please use tf.compat.v1.train.Optimizer instead.\n",
            "\n",
            "WARNING:tensorflow:From /usr/local/lib/python3.6/dist-packages/tensorflow/python/ops/math_grad.py:1250: add_dispatch_support.<locals>.wrapper (from tensorflow.python.ops.array_ops) is deprecated and will be removed in a future version.\n",
            "Instructions for updating:\n",
            "Use tf.where in 2.0, which has the same broadcast rule as np.where\n"
          ],
          "name": "stdout"
        },
        {
          "output_type": "stream",
          "text": [
            "/usr/local/lib/python3.6/dist-packages/ipykernel_launcher.py:5: UserWarning: The `nb_epoch` argument in `fit` has been renamed `epochs`.\n",
            "  \"\"\"\n"
          ],
          "name": "stderr"
        },
        {
          "output_type": "stream",
          "text": [
            "Train on 60000 samples, validate on 10000 samples\n",
            "Epoch 1/30\n",
            "60000/60000 [==============================] - 35s 576us/step - loss: 0.2163 - acc: 0.9443 - val_loss: 0.0612 - val_acc: 0.9827\n",
            "Epoch 2/30\n",
            "60000/60000 [==============================] - 32s 541us/step - loss: 0.1004 - acc: 0.9718 - val_loss: 0.0551 - val_acc: 0.9833\n",
            "Epoch 3/30\n",
            "60000/60000 [==============================] - 34s 559us/step - loss: 0.0807 - acc: 0.9763 - val_loss: 0.0412 - val_acc: 0.9870\n",
            "Epoch 4/30\n",
            "60000/60000 [==============================] - 33s 543us/step - loss: 0.0680 - acc: 0.9797 - val_loss: 0.0347 - val_acc: 0.9893\n",
            "Epoch 5/30\n",
            "60000/60000 [==============================] - 33s 551us/step - loss: 0.0628 - acc: 0.9811 - val_loss: 0.0329 - val_acc: 0.9900\n",
            "Epoch 6/30\n",
            "60000/60000 [==============================] - 33s 555us/step - loss: 0.0575 - acc: 0.9830 - val_loss: 0.0236 - val_acc: 0.9932\n",
            "Epoch 7/30\n",
            "60000/60000 [==============================] - 35s 578us/step - loss: 0.0535 - acc: 0.9837 - val_loss: 0.0266 - val_acc: 0.9905\n",
            "Epoch 8/30\n",
            "60000/60000 [==============================] - 32s 536us/step - loss: 0.0520 - acc: 0.9844 - val_loss: 0.0342 - val_acc: 0.9889\n",
            "Epoch 9/30\n",
            "60000/60000 [==============================] - 32s 530us/step - loss: 0.0480 - acc: 0.9851 - val_loss: 0.0272 - val_acc: 0.9909\n",
            "Epoch 10/30\n",
            "60000/60000 [==============================] - 33s 554us/step - loss: 0.0453 - acc: 0.9860 - val_loss: 0.0240 - val_acc: 0.9918\n",
            "Epoch 11/30\n",
            "60000/60000 [==============================] - 32s 539us/step - loss: 0.0445 - acc: 0.9866 - val_loss: 0.0212 - val_acc: 0.9944\n",
            "Epoch 12/30\n",
            "60000/60000 [==============================] - 33s 548us/step - loss: 0.0428 - acc: 0.9872 - val_loss: 0.0251 - val_acc: 0.9925\n",
            "Epoch 13/30\n",
            "60000/60000 [==============================] - 32s 541us/step - loss: 0.0401 - acc: 0.9876 - val_loss: 0.0216 - val_acc: 0.9938\n",
            "Epoch 14/30\n",
            "60000/60000 [==============================] - 35s 586us/step - loss: 0.0417 - acc: 0.9877 - val_loss: 0.0270 - val_acc: 0.9917\n",
            "Epoch 15/30\n",
            "60000/60000 [==============================] - 33s 545us/step - loss: 0.0395 - acc: 0.9878 - val_loss: 0.0209 - val_acc: 0.9931\n",
            "Epoch 16/30\n",
            "60000/60000 [==============================] - 32s 528us/step - loss: 0.0372 - acc: 0.9888 - val_loss: 0.0189 - val_acc: 0.9942\n",
            "Epoch 17/30\n",
            "60000/60000 [==============================] - 33s 557us/step - loss: 0.0369 - acc: 0.9889 - val_loss: 0.0203 - val_acc: 0.9928\n",
            "Epoch 18/30\n",
            "60000/60000 [==============================] - 32s 534us/step - loss: 0.0346 - acc: 0.9894 - val_loss: 0.0184 - val_acc: 0.9945\n",
            "Epoch 19/30\n",
            "60000/60000 [==============================] - 32s 536us/step - loss: 0.0372 - acc: 0.9888 - val_loss: 0.0198 - val_acc: 0.9943\n",
            "Epoch 20/30\n",
            "60000/60000 [==============================] - 33s 557us/step - loss: 0.0364 - acc: 0.9892 - val_loss: 0.0182 - val_acc: 0.9942\n",
            "Epoch 21/30\n",
            "60000/60000 [==============================] - 34s 562us/step - loss: 0.0350 - acc: 0.9893 - val_loss: 0.0185 - val_acc: 0.9940\n",
            "Epoch 22/30\n",
            "60000/60000 [==============================] - 34s 560us/step - loss: 0.0343 - acc: 0.9897 - val_loss: 0.0192 - val_acc: 0.9938\n",
            "Epoch 23/30\n",
            "60000/60000 [==============================] - 32s 541us/step - loss: 0.0337 - acc: 0.9897 - val_loss: 0.0183 - val_acc: 0.9942\n",
            "Epoch 24/30\n",
            "60000/60000 [==============================] - 32s 540us/step - loss: 0.0333 - acc: 0.9899 - val_loss: 0.0207 - val_acc: 0.9942\n",
            "Epoch 25/30\n",
            "60000/60000 [==============================] - 34s 568us/step - loss: 0.0336 - acc: 0.9896 - val_loss: 0.0180 - val_acc: 0.9946\n",
            "Epoch 26/30\n",
            "60000/60000 [==============================] - 32s 533us/step - loss: 0.0317 - acc: 0.9901 - val_loss: 0.0183 - val_acc: 0.9941\n",
            "Epoch 27/30\n",
            "60000/60000 [==============================] - 33s 556us/step - loss: 0.0308 - acc: 0.9903 - val_loss: 0.0208 - val_acc: 0.9934\n",
            "Epoch 28/30\n",
            "60000/60000 [==============================] - 33s 546us/step - loss: 0.0312 - acc: 0.9905 - val_loss: 0.0187 - val_acc: 0.9943\n",
            "Epoch 29/30\n",
            "60000/60000 [==============================] - 35s 584us/step - loss: 0.0295 - acc: 0.9908 - val_loss: 0.0171 - val_acc: 0.9946\n",
            "Epoch 30/30\n",
            "60000/60000 [==============================] - 33s 552us/step - loss: 0.0308 - acc: 0.9908 - val_loss: 0.0189 - val_acc: 0.9941\n"
          ],
          "name": "stdout"
        },
        {
          "output_type": "execute_result",
          "data": {
            "text/plain": [
              "<keras.callbacks.History at 0x7f626fc242b0>"
            ]
          },
          "metadata": {
            "tags": []
          },
          "execution_count": 11
        }
      ]
    },
    {
      "cell_type": "markdown",
      "metadata": {
        "id": "-ddl7mfaParG",
        "colab_type": "text"
      },
      "source": [
        "Following code shows the first 25 wrongly predicted images with their predicted class and actual class values."
      ]
    },
    {
      "cell_type": "code",
      "metadata": {
        "id": "Guh5qjNsIUWM",
        "colab_type": "code",
        "colab": {
          "base_uri": "https://localhost:8080/",
          "height": 746
        },
        "outputId": "06caebb0-4a04-4130-89c6-22a3320fc398"
      },
      "source": [
        "predicted_classes = model.predict(X_test)\n",
        "predicted_classes = np.argmax(np.round(predicted_classes),axis=1)\n",
        "predicted_classes.shape, y_test.shape\n",
        "incorrect =np.where(predicted_classes != y_test)[0]\n",
        "print ('Found incorrect labels:', len(incorrect))\n",
        "plt.figure(figsize=(10,10))\n",
        "for i, incorrect in enumerate(incorrect[:25]):\n",
        "   plt.subplot(5,5,i+1)\n",
        "   plt.imshow(X_test[incorrect].reshape(28,28), cmap='gray', interpolation='none')\n",
        "   plt.title(\"Predicted {}, Class {}\".format(predicted_classes[incorrect], y_test[incorrect]))\n",
        "   plt.tight_layout()"
      ],
      "execution_count": 12,
      "outputs": [
        {
          "output_type": "stream",
          "text": [
            "Found incorrect labels: 63\n"
          ],
          "name": "stdout"
        },
        {
          "output_type": "display_data",
          "data": {
            "image/png": "[encoded data removed]",
            "text/plain": [
              "<Figure size 720x720 with 25 Axes>"
            ]
          },
          "metadata": {
            "tags": []
          }
        }
      ]
    },
    {
      "cell_type": "markdown",
      "metadata": {
        "id": "SZlUEtiZhnz2",
        "colab_type": "text"
      },
      "source": [
        "With the modified model, highest accuracy achieved is approx **99.50%** on the validation dataset. "
      ]
    },
    {
      "cell_type": "markdown",
      "metadata": {
        "id": "52dQCcDv4m8I",
        "colab_type": "text"
      },
      "source": [
        "**MODEL-2**\n",
        "\n",
        "New model after moving batch normalization before Relu activation function as suggested by different acadmecian as well as Dr. Andrew Ng."
      ]
    },
    {
      "cell_type": "code",
      "metadata": {
        "id": "mFLPc7FqaTp4",
        "colab_type": "code",
        "outputId": "711be747-6aa6-48d9-d64e-10b976945d90",
        "colab": {
          "base_uri": "https://localhost:8080/",
          "height": 1000
        }
      },
      "source": [
        "model = Sequential()\n",
        " \n",
        "model.add(Convolution2D(16, 3, 3, input_shape=(28,28,1))) #Receptive field 3*3\n",
        "model.add(BatchNormalization())\n",
        "model.add(Activation('relu'))\n",
        "model.add(Dropout(0.25))\n",
        "model.add(Convolution2D(16, 3, 3)) #Receptive field 5*5\n",
        "model.add(BatchNormalization())\n",
        "model.add(Activation('relu'))\n",
        "model.add(Dropout(0.25))\n",
        "model.add(MaxPooling2D()) #Receptive field 6*6\n",
        "model.add(Convolution2D(16, 3, 3)) #Receptive field 10*10\n",
        "model.add(BatchNormalization())\n",
        "model.add(Activation('relu'))\n",
        "model.add(Dropout(0.25))\n",
        "model.add(Convolution2D(16, 3, 3)) #Receptive field 14*14\n",
        "model.add(BatchNormalization())\n",
        "model.add(Activation('relu'))\n",
        "model.add(Dropout(0.25))\n",
        "model.add(Convolution2D(10, 1))\n",
        "model.add(Convolution2D(10, 8))\n",
        "model.add(BatchNormalization())\n",
        "model.add(Flatten())\n",
        "model.add(Activation('softmax'))\n",
        "\n",
        "model.summary()"
      ],
      "execution_count": 13,
      "outputs": [
        {
          "output_type": "stream",
          "text": [
            "/usr/local/lib/python3.6/dist-packages/ipykernel_launcher.py:3: UserWarning: Update your `Conv2D` call to the Keras 2 API: `Conv2D(16, (3, 3), input_shape=(28, 28, 1...)`\n",
            "  This is separate from the ipykernel package so we can avoid doing imports until\n",
            "/usr/local/lib/python3.6/dist-packages/ipykernel_launcher.py:7: UserWarning: Update your `Conv2D` call to the Keras 2 API: `Conv2D(16, (3, 3))`\n",
            "  import sys\n",
            "/usr/local/lib/python3.6/dist-packages/ipykernel_launcher.py:12: UserWarning: Update your `Conv2D` call to the Keras 2 API: `Conv2D(16, (3, 3))`\n",
            "  if sys.path[0] == '':\n",
            "/usr/local/lib/python3.6/dist-packages/ipykernel_launcher.py:16: UserWarning: Update your `Conv2D` call to the Keras 2 API: `Conv2D(16, (3, 3))`\n",
            "  app.launch_new_instance()\n"
          ],
          "name": "stderr"
        },
        {
          "output_type": "stream",
          "text": [
            "Model: \"sequential_2\"\n",
            "_________________________________________________________________\n",
            "Layer (type)                 Output Shape              Param #   \n",
            "=================================================================\n",
            "conv2d_7 (Conv2D)            (None, 26, 26, 16)        160       \n",
            "_________________________________________________________________\n",
            "batch_normalization_6 (Batch (None, 26, 26, 16)        64        \n",
            "_________________________________________________________________\n",
            "activation_6 (Activation)    (None, 26, 26, 16)        0         \n",
            "_________________________________________________________________\n",
            "dropout_5 (Dropout)          (None, 26, 26, 16)        0         \n",
            "_________________________________________________________________\n",
            "conv2d_8 (Conv2D)            (None, 24, 24, 16)        2320      \n",
            "_________________________________________________________________\n",
            "batch_normalization_7 (Batch (None, 24, 24, 16)        64        \n",
            "_________________________________________________________________\n",
            "activation_7 (Activation)    (None, 24, 24, 16)        0         \n",
            "_________________________________________________________________\n",
            "dropout_6 (Dropout)          (None, 24, 24, 16)        0         \n",
            "_________________________________________________________________\n",
            "max_pooling2d_2 (MaxPooling2 (None, 12, 12, 16)        0         \n",
            "_________________________________________________________________\n",
            "conv2d_9 (Conv2D)            (None, 10, 10, 16)        2320      \n",
            "_________________________________________________________________\n",
            "batch_normalization_8 (Batch (None, 10, 10, 16)        64        \n",
            "_________________________________________________________________\n",
            "activation_8 (Activation)    (None, 10, 10, 16)        0         \n",
            "_________________________________________________________________\n",
            "dropout_7 (Dropout)          (None, 10, 10, 16)        0         \n",
            "_________________________________________________________________\n",
            "conv2d_10 (Conv2D)           (None, 8, 8, 16)          2320      \n",
            "_________________________________________________________________\n",
            "batch_normalization_9 (Batch (None, 8, 8, 16)          64        \n",
            "_________________________________________________________________\n",
            "activation_9 (Activation)    (None, 8, 8, 16)          0         \n",
            "_________________________________________________________________\n",
            "dropout_8 (Dropout)          (None, 8, 8, 16)          0         \n",
            "_________________________________________________________________\n",
            "conv2d_11 (Conv2D)           (None, 8, 8, 10)          170       \n",
            "_________________________________________________________________\n",
            "conv2d_12 (Conv2D)           (None, 1, 1, 10)          6410      \n",
            "_________________________________________________________________\n",
            "batch_normalization_10 (Batc (None, 1, 1, 10)          40        \n",
            "_________________________________________________________________\n",
            "flatten_2 (Flatten)          (None, 10)                0         \n",
            "_________________________________________________________________\n",
            "activation_10 (Activation)   (None, 10)                0         \n",
            "=================================================================\n",
            "Total params: 13,996\n",
            "Trainable params: 13,848\n",
            "Non-trainable params: 148\n",
            "_________________________________________________________________\n"
          ],
          "name": "stdout"
        }
      ]
    },
    {
      "cell_type": "code",
      "metadata": {
        "id": "riFVIi4JbnV1",
        "colab_type": "code",
        "outputId": "10782a36-0bd2-45a8-c310-7468104ce0ad",
        "colab": {
          "base_uri": "https://localhost:8080/",
          "height": 1000
        }
      },
      "source": [
        "model.compile(loss='categorical_crossentropy',\n",
        "             optimizer=optimizers.Adam(lr = 0.01, decay = 0.0001),\n",
        "             metrics=['accuracy'])\n",
        "mcp = ModelCheckpoint(\"Model2\", monitor=\"val_acc\",\n",
        "                      save_best_only=True, save_weights_only=False)\n",
        "model.fit(X_train, Y_train, batch_size=32, nb_epoch=30, verbose=1,\n",
        "          validation_data=(X_test, Y_test), callbacks=[mcp])"
      ],
      "execution_count": 14,
      "outputs": [
        {
          "output_type": "stream",
          "text": [
            "/usr/local/lib/python3.6/dist-packages/ipykernel_launcher.py:7: UserWarning: The `nb_epoch` argument in `fit` has been renamed `epochs`.\n",
            "  import sys\n"
          ],
          "name": "stderr"
        },
        {
          "output_type": "stream",
          "text": [
            "Train on 60000 samples, validate on 10000 samples\n",
            "Epoch 1/30\n",
            "60000/60000 [==============================] - 33s 553us/step - loss: 0.2325 - acc: 0.9397 - val_loss: 0.0722 - val_acc: 0.9805\n",
            "Epoch 2/30\n",
            "60000/60000 [==============================] - 34s 567us/step - loss: 0.1100 - acc: 0.9697 - val_loss: 0.0536 - val_acc: 0.9829\n",
            "Epoch 3/30\n",
            "60000/60000 [==============================] - 33s 545us/step - loss: 0.0858 - acc: 0.9745 - val_loss: 0.0399 - val_acc: 0.9881\n",
            "Epoch 4/30\n",
            "60000/60000 [==============================] - 32s 538us/step - loss: 0.0756 - acc: 0.9778 - val_loss: 0.0573 - val_acc: 0.9819\n",
            "Epoch 5/30\n",
            "60000/60000 [==============================] - 33s 549us/step - loss: 0.0676 - acc: 0.9801 - val_loss: 0.0340 - val_acc: 0.9889\n",
            "Epoch 6/30\n",
            "60000/60000 [==============================] - 34s 560us/step - loss: 0.0596 - acc: 0.9822 - val_loss: 0.0284 - val_acc: 0.9915\n",
            "Epoch 7/30\n",
            "60000/60000 [==============================] - 34s 561us/step - loss: 0.0598 - acc: 0.9823 - val_loss: 0.0251 - val_acc: 0.9921\n",
            "Epoch 8/30\n",
            "60000/60000 [==============================] - 32s 541us/step - loss: 0.0552 - acc: 0.9838 - val_loss: 0.0265 - val_acc: 0.9919\n",
            "Epoch 9/30\n",
            "60000/60000 [==============================] - 32s 533us/step - loss: 0.0518 - acc: 0.9843 - val_loss: 0.0232 - val_acc: 0.9928\n",
            "Epoch 10/30\n",
            "60000/60000 [==============================] - 34s 559us/step - loss: 0.0511 - acc: 0.9849 - val_loss: 0.0223 - val_acc: 0.9934\n",
            "Epoch 11/30\n",
            "60000/60000 [==============================] - 32s 536us/step - loss: 0.0484 - acc: 0.9856 - val_loss: 0.0232 - val_acc: 0.9930\n",
            "Epoch 12/30\n",
            "60000/60000 [==============================] - 33s 545us/step - loss: 0.0450 - acc: 0.9863 - val_loss: 0.0223 - val_acc: 0.9937\n",
            "Epoch 13/30\n",
            "60000/60000 [==============================] - 33s 544us/step - loss: 0.0442 - acc: 0.9871 - val_loss: 0.0223 - val_acc: 0.9937\n",
            "Epoch 14/30\n",
            "60000/60000 [==============================] - 35s 586us/step - loss: 0.0447 - acc: 0.9865 - val_loss: 0.0231 - val_acc: 0.9933\n",
            "Epoch 15/30\n",
            "60000/60000 [==============================] - 33s 549us/step - loss: 0.0432 - acc: 0.9869 - val_loss: 0.0207 - val_acc: 0.9936\n",
            "Epoch 16/30\n",
            "60000/60000 [==============================] - 32s 528us/step - loss: 0.0410 - acc: 0.9878 - val_loss: 0.0207 - val_acc: 0.9934\n",
            "Epoch 17/30\n",
            "60000/60000 [==============================] - 32s 533us/step - loss: 0.0400 - acc: 0.9881 - val_loss: 0.0199 - val_acc: 0.9934\n",
            "Epoch 18/30\n",
            "60000/60000 [==============================] - 33s 548us/step - loss: 0.0416 - acc: 0.9874 - val_loss: 0.0195 - val_acc: 0.9942\n",
            "Epoch 19/30\n",
            "60000/60000 [==============================] - 33s 547us/step - loss: 0.0399 - acc: 0.9879 - val_loss: 0.0197 - val_acc: 0.9942\n",
            "Epoch 20/30\n",
            "60000/60000 [==============================] - 32s 531us/step - loss: 0.0389 - acc: 0.9880 - val_loss: 0.0200 - val_acc: 0.9936\n",
            "Epoch 21/30\n",
            "60000/60000 [==============================] - 34s 563us/step - loss: 0.0379 - acc: 0.9888 - val_loss: 0.0204 - val_acc: 0.9936\n",
            "Epoch 22/30\n",
            "60000/60000 [==============================] - 32s 541us/step - loss: 0.0374 - acc: 0.9890 - val_loss: 0.0190 - val_acc: 0.9939\n",
            "Epoch 23/30\n",
            "60000/60000 [==============================] - 36s 592us/step - loss: 0.0381 - acc: 0.9883 - val_loss: 0.0183 - val_acc: 0.9945\n",
            "Epoch 24/30\n",
            "60000/60000 [==============================] - 33s 542us/step - loss: 0.0355 - acc: 0.9890 - val_loss: 0.0179 - val_acc: 0.9937\n",
            "Epoch 25/30\n",
            "60000/60000 [==============================] - 32s 530us/step - loss: 0.0361 - acc: 0.9890 - val_loss: 0.0179 - val_acc: 0.9943\n",
            "Epoch 26/30\n",
            "60000/60000 [==============================] - 33s 557us/step - loss: 0.0360 - acc: 0.9886 - val_loss: 0.0165 - val_acc: 0.9941\n",
            "Epoch 27/30\n",
            "60000/60000 [==============================] - 33s 544us/step - loss: 0.0345 - acc: 0.9897 - val_loss: 0.0179 - val_acc: 0.9944\n",
            "Epoch 28/30\n",
            "60000/60000 [==============================] - 32s 535us/step - loss: 0.0348 - acc: 0.9893 - val_loss: 0.0179 - val_acc: 0.9940\n",
            "Epoch 29/30\n",
            "60000/60000 [==============================] - 33s 555us/step - loss: 0.0352 - acc: 0.9890 - val_loss: 0.0180 - val_acc: 0.9945\n",
            "Epoch 30/30\n",
            "60000/60000 [==============================] - 33s 553us/step - loss: 0.0332 - acc: 0.9900 - val_loss: 0.0175 - val_acc: 0.9942\n"
          ],
          "name": "stdout"
        },
        {
          "output_type": "execute_result",
          "data": {
            "text/plain": [
              "<keras.callbacks.History at 0x7f6260624908>"
            ]
          },
          "metadata": {
            "tags": []
          },
          "execution_count": 14
        }
      ]
    },
    {
      "cell_type": "code",
      "metadata": {
        "id": "BV-xz1O3IXuz",
        "colab_type": "code",
        "colab": {
          "base_uri": "https://localhost:8080/",
          "height": 746
        },
        "outputId": "64283b2f-7837-4890-de28-e811bf399000"
      },
      "source": [
        "predicted_classes = model.predict(X_test)\n",
        "predicted_classes = np.argmax(np.round(predicted_classes),axis=1)\n",
        "predicted_classes.shape, y_test.shape\n",
        "incorrect =np.where(predicted_classes != y_test)[0]\n",
        "print ('Found incorrect labels:', len(incorrect))\n",
        "plt.figure(figsize=(10,10))\n",
        "for i, incorrect in enumerate(incorrect[:25]):\n",
        "   plt.subplot(5,5,i+1)\n",
        "   plt.imshow(X_test[incorrect].reshape(28,28), cmap='gray', interpolation='none')\n",
        "   plt.title(\"Predicted {}, Class {}\".format(predicted_classes[incorrect], y_test[incorrect]))\n",
        "   plt.tight_layout()"
      ],
      "execution_count": 15,
      "outputs": [
        {
          "output_type": "stream",
          "text": [
            "Found incorrect labels: 59\n"
          ],
          "name": "stdout"
        },
        {
          "output_type": "display_data",
          "data": {
            "image/png": "[encoded data removed]",
            "text/plain": [
              "<Figure size 720x720 with 25 Axes>"
            ]
          },
          "metadata": {
            "tags": []
          }
        }
      ]
    },
    {
      "cell_type": "markdown",
      "metadata": {
        "id": "55iefqRh45of",
        "colab_type": "text"
      },
      "source": [
        "Validation accuracy in the Model-2 does not change much.\n",
        "\n",
        "**MODEL-3**\n",
        "\n",
        "**Model with Regularization** - Regularization is used within the layers in this model.\n",
        "\n",
        "Tried different regularization values and finally best results come with regularization value of 0.005. Though this has little negative impact on the accuracy and overall Learning."
      ]
    },
    {
      "cell_type": "code",
      "metadata": {
        "id": "mVUEzKLHa7fG",
        "colab_type": "code",
        "colab": {
          "base_uri": "https://localhost:8080/",
          "height": 1000
        },
        "outputId": "134728e6-a0bc-4302-b0ef-ebea028458a0"
      },
      "source": [
        "from keras import regularizers\n",
        "\n",
        "model = Sequential()\n",
        "\n",
        "model.add(Convolution2D(16, 3, 3, input_shape=(28,28,1), kernel_regularizer=regularizers.l2(0.005))) #Receptive field 3*3\n",
        "model.add(BatchNormalization())\n",
        "model.add(Activation('relu'))\n",
        "model.add(Dropout(0.05))\n",
        "model.add(Convolution2D(16, 3, 3, kernel_regularizer=regularizers.l2(0.005))) #Receptive field 5*5\n",
        "model.add(BatchNormalization())\n",
        "model.add(Activation('relu'))\n",
        "model.add(Dropout(0.05))\n",
        "model.add(MaxPooling2D()) #Receptive field 6*6\n",
        "model.add(Convolution2D(16, 3, 3, kernel_regularizer=regularizers.l2(0.005))) #Receptive field 10*10\n",
        "model.add(BatchNormalization())\n",
        "model.add(Activation('relu'))\n",
        "model.add(Dropout(0.05))\n",
        "model.add(Convolution2D(16, 3, 3, kernel_regularizer=regularizers.l2(0.005))) #Receptive field 14*14\n",
        "model.add(BatchNormalization())\n",
        "model.add(Activation('relu'))\n",
        "model.add(Dropout(0.05))\n",
        "model.add(Convolution2D(10, 1, kernel_regularizer=regularizers.l2(0.005)))\n",
        "model.add(Convolution2D(10, 8, kernel_regularizer=regularizers.l2(0.005)))\n",
        "model.add(BatchNormalization())\n",
        "model.add(Flatten())\n",
        "model.add(Activation('softmax'))\n",
        "\n",
        "model.summary()"
      ],
      "execution_count": 16,
      "outputs": [
        {
          "output_type": "stream",
          "text": [
            "/usr/local/lib/python3.6/dist-packages/ipykernel_launcher.py:5: UserWarning: Update your `Conv2D` call to the Keras 2 API: `Conv2D(16, (3, 3), input_shape=(28, 28, 1..., kernel_regularizer=<keras.reg...)`\n",
            "  \"\"\"\n",
            "/usr/local/lib/python3.6/dist-packages/ipykernel_launcher.py:9: UserWarning: Update your `Conv2D` call to the Keras 2 API: `Conv2D(16, (3, 3), kernel_regularizer=<keras.reg...)`\n",
            "  if __name__ == '__main__':\n",
            "/usr/local/lib/python3.6/dist-packages/ipykernel_launcher.py:14: UserWarning: Update your `Conv2D` call to the Keras 2 API: `Conv2D(16, (3, 3), kernel_regularizer=<keras.reg...)`\n",
            "  \n",
            "/usr/local/lib/python3.6/dist-packages/ipykernel_launcher.py:18: UserWarning: Update your `Conv2D` call to the Keras 2 API: `Conv2D(16, (3, 3), kernel_regularizer=<keras.reg...)`\n"
          ],
          "name": "stderr"
        },
        {
          "output_type": "stream",
          "text": [
            "Model: \"sequential_3\"\n",
            "_________________________________________________________________\n",
            "Layer (type)                 Output Shape              Param #   \n",
            "=================================================================\n",
            "conv2d_13 (Conv2D)           (None, 26, 26, 16)        160       \n",
            "_________________________________________________________________\n",
            "batch_normalization_11 (Batc (None, 26, 26, 16)        64        \n",
            "_________________________________________________________________\n",
            "activation_11 (Activation)   (None, 26, 26, 16)        0         \n",
            "_________________________________________________________________\n",
            "dropout_9 (Dropout)          (None, 26, 26, 16)        0         \n",
            "_________________________________________________________________\n",
            "conv2d_14 (Conv2D)           (None, 24, 24, 16)        2320      \n",
            "_________________________________________________________________\n",
            "batch_normalization_12 (Batc (None, 24, 24, 16)        64        \n",
            "_________________________________________________________________\n",
            "activation_12 (Activation)   (None, 24, 24, 16)        0         \n",
            "_________________________________________________________________\n",
            "dropout_10 (Dropout)         (None, 24, 24, 16)        0         \n",
            "_________________________________________________________________\n",
            "max_pooling2d_3 (MaxPooling2 (None, 12, 12, 16)        0         \n",
            "_________________________________________________________________\n",
            "conv2d_15 (Conv2D)           (None, 10, 10, 16)        2320      \n",
            "_________________________________________________________________\n",
            "batch_normalization_13 (Batc (None, 10, 10, 16)        64        \n",
            "_________________________________________________________________\n",
            "activation_13 (Activation)   (None, 10, 10, 16)        0         \n",
            "_________________________________________________________________\n",
            "dropout_11 (Dropout)         (None, 10, 10, 16)        0         \n",
            "_________________________________________________________________\n",
            "conv2d_16 (Conv2D)           (None, 8, 8, 16)          2320      \n",
            "_________________________________________________________________\n",
            "batch_normalization_14 (Batc (None, 8, 8, 16)          64        \n",
            "_________________________________________________________________\n",
            "activation_14 (Activation)   (None, 8, 8, 16)          0         \n",
            "_________________________________________________________________\n",
            "dropout_12 (Dropout)         (None, 8, 8, 16)          0         \n",
            "_________________________________________________________________\n",
            "conv2d_17 (Conv2D)           (None, 8, 8, 10)          170       \n",
            "_________________________________________________________________\n",
            "conv2d_18 (Conv2D)           (None, 1, 1, 10)          6410      \n",
            "_________________________________________________________________\n",
            "batch_normalization_15 (Batc (None, 1, 1, 10)          40        \n",
            "_________________________________________________________________\n",
            "flatten_3 (Flatten)          (None, 10)                0         \n",
            "_________________________________________________________________\n",
            "activation_15 (Activation)   (None, 10)                0         \n",
            "=================================================================\n",
            "Total params: 13,996\n",
            "Trainable params: 13,848\n",
            "Non-trainable params: 148\n",
            "_________________________________________________________________\n"
          ],
          "name": "stdout"
        }
      ]
    },
    {
      "cell_type": "code",
      "metadata": {
        "id": "kq_7Jz8dboim",
        "colab_type": "code",
        "colab": {
          "base_uri": "https://localhost:8080/",
          "height": 1000
        },
        "outputId": "201f157a-1a09-47a1-bb3a-7b0a266642e4"
      },
      "source": [
        "model.compile(loss='categorical_crossentropy',\n",
        "             optimizer=optimizers.Adam(lr = 0.01, decay=0.0001),\n",
        "             metrics=['accuracy'])\n",
        "mcp = ModelCheckpoint(\"Model3\", monitor=\"val_acc\",\n",
        "                      save_best_only=True, save_weights_only=False)\n",
        "model.fit(X_train, Y_train, batch_size=32, nb_epoch=30, verbose=1,\n",
        "          validation_data=(X_test, Y_test), callbacks=[mcp])"
      ],
      "execution_count": 17,
      "outputs": [
        {
          "output_type": "stream",
          "text": [
            "/usr/local/lib/python3.6/dist-packages/ipykernel_launcher.py:7: UserWarning: The `nb_epoch` argument in `fit` has been renamed `epochs`.\n",
            "  import sys\n"
          ],
          "name": "stderr"
        },
        {
          "output_type": "stream",
          "text": [
            "Train on 60000 samples, validate on 10000 samples\n",
            "Epoch 1/30\n",
            "60000/60000 [==============================] - 37s 616us/step - loss: 0.4883 - acc: 0.9232 - val_loss: 0.4930 - val_acc: 0.9083\n",
            "Epoch 2/30\n",
            "60000/60000 [==============================] - 33s 557us/step - loss: 0.3669 - acc: 0.9393 - val_loss: 0.3018 - val_acc: 0.9586\n",
            "Epoch 3/30\n",
            "60000/60000 [==============================] - 34s 570us/step - loss: 0.3281 - acc: 0.9459 - val_loss: 0.2966 - val_acc: 0.9575\n",
            "Epoch 4/30\n",
            "60000/60000 [==============================] - 35s 577us/step - loss: 0.2938 - acc: 0.9499 - val_loss: 0.4177 - val_acc: 0.9049\n",
            "Epoch 5/30\n",
            "60000/60000 [==============================] - 34s 560us/step - loss: 0.2761 - acc: 0.9529 - val_loss: 0.4266 - val_acc: 0.8980\n",
            "Epoch 6/30\n",
            "60000/60000 [==============================] - 35s 579us/step - loss: 0.2646 - acc: 0.9550 - val_loss: 0.2404 - val_acc: 0.9613\n",
            "Epoch 7/30\n",
            "60000/60000 [==============================] - 34s 565us/step - loss: 0.2465 - acc: 0.9581 - val_loss: 0.1965 - val_acc: 0.9750\n",
            "Epoch 8/30\n",
            "60000/60000 [==============================] - 37s 612us/step - loss: 0.2345 - acc: 0.9596 - val_loss: 0.1881 - val_acc: 0.9697\n",
            "Epoch 9/30\n",
            "60000/60000 [==============================] - 34s 570us/step - loss: 0.2311 - acc: 0.9592 - val_loss: 0.2273 - val_acc: 0.9567\n",
            "Epoch 10/30\n",
            "60000/60000 [==============================] - 33s 555us/step - loss: 0.2200 - acc: 0.9613 - val_loss: 0.1837 - val_acc: 0.9716\n",
            "Epoch 11/30\n",
            "60000/60000 [==============================] - 35s 580us/step - loss: 0.2101 - acc: 0.9624 - val_loss: 0.1950 - val_acc: 0.9694\n",
            "Epoch 12/30\n",
            "60000/60000 [==============================] - 34s 567us/step - loss: 0.2033 - acc: 0.9637 - val_loss: 0.1889 - val_acc: 0.9675\n",
            "Epoch 13/30\n",
            "60000/60000 [==============================] - 34s 560us/step - loss: 0.2004 - acc: 0.9638 - val_loss: 0.1432 - val_acc: 0.9816\n",
            "Epoch 14/30\n",
            "60000/60000 [==============================] - 35s 585us/step - loss: 0.1925 - acc: 0.9646 - val_loss: 0.1824 - val_acc: 0.9666\n",
            "Epoch 15/30\n",
            "60000/60000 [==============================] - 34s 568us/step - loss: 0.1861 - acc: 0.9660 - val_loss: 0.1607 - val_acc: 0.9722\n",
            "Epoch 16/30\n",
            "60000/60000 [==============================] - 36s 603us/step - loss: 0.1818 - acc: 0.9667 - val_loss: 0.1346 - val_acc: 0.9802\n",
            "Epoch 17/30\n",
            "60000/60000 [==============================] - 34s 565us/step - loss: 0.1775 - acc: 0.9678 - val_loss: 0.1372 - val_acc: 0.9797\n",
            "Epoch 18/30\n",
            "60000/60000 [==============================] - 34s 561us/step - loss: 0.1736 - acc: 0.9676 - val_loss: 0.1170 - val_acc: 0.9841\n",
            "Epoch 19/30\n",
            "60000/60000 [==============================] - 35s 587us/step - loss: 0.1706 - acc: 0.9676 - val_loss: 0.1214 - val_acc: 0.9820\n",
            "Epoch 20/30\n",
            "60000/60000 [==============================] - 33s 557us/step - loss: 0.1671 - acc: 0.9687 - val_loss: 0.1529 - val_acc: 0.9738\n",
            "Epoch 21/30\n",
            "60000/60000 [==============================] - 35s 578us/step - loss: 0.1655 - acc: 0.9689 - val_loss: 0.1136 - val_acc: 0.9856\n",
            "Epoch 22/30\n",
            "60000/60000 [==============================] - 34s 560us/step - loss: 0.1592 - acc: 0.9701 - val_loss: 0.1361 - val_acc: 0.9768\n",
            "Epoch 23/30\n",
            "60000/60000 [==============================] - 37s 614us/step - loss: 0.1582 - acc: 0.9705 - val_loss: 0.1156 - val_acc: 0.9825\n",
            "Epoch 24/30\n",
            "60000/60000 [==============================] - 34s 565us/step - loss: 0.1577 - acc: 0.9699 - val_loss: 0.1309 - val_acc: 0.9789\n",
            "Epoch 25/30\n",
            "60000/60000 [==============================] - 33s 548us/step - loss: 0.1522 - acc: 0.9716 - val_loss: 0.1216 - val_acc: 0.9817\n",
            "Epoch 26/30\n",
            "60000/60000 [==============================] - 33s 555us/step - loss: 0.1466 - acc: 0.9725 - val_loss: 0.1695 - val_acc: 0.9623\n",
            "Epoch 27/30\n",
            "60000/60000 [==============================] - 35s 591us/step - loss: 0.1503 - acc: 0.9713 - val_loss: 0.1118 - val_acc: 0.9839\n",
            "Epoch 28/30\n",
            "60000/60000 [==============================] - 34s 561us/step - loss: 0.1472 - acc: 0.9718 - val_loss: 0.1149 - val_acc: 0.9816\n",
            "Epoch 29/30\n",
            "60000/60000 [==============================] - 34s 558us/step - loss: 0.1450 - acc: 0.9718 - val_loss: 0.1003 - val_acc: 0.9862\n",
            "Epoch 30/30\n",
            "60000/60000 [==============================] - 35s 582us/step - loss: 0.1426 - acc: 0.9726 - val_loss: 0.1196 - val_acc: 0.9780\n"
          ],
          "name": "stdout"
        },
        {
          "output_type": "execute_result",
          "data": {
            "text/plain": [
              "<keras.callbacks.History at 0x7f6221818cc0>"
            ]
          },
          "metadata": {
            "tags": []
          },
          "execution_count": 17
        }
      ]
    },
    {
      "cell_type": "code",
      "metadata": {
        "id": "HJkRI52YIaqL",
        "colab_type": "code",
        "colab": {
          "base_uri": "https://localhost:8080/",
          "height": 746
        },
        "outputId": "c263368a-b799-42c1-a584-153872a2f2b9"
      },
      "source": [
        "predicted_classes = model.predict(X_test)\n",
        "predicted_classes = np.argmax(np.round(predicted_classes),axis=1)\n",
        "predicted_classes.shape, y_test.shape\n",
        "incorrect =np.where(predicted_classes != y_test)[0]\n",
        "print ('Found incorrect labels:', len(incorrect))\n",
        "plt.figure(figsize=(10,10))\n",
        "for i, incorrect in enumerate(incorrect[:25]):\n",
        "   plt.subplot(5,5,i+1)\n",
        "   plt.imshow(X_test[incorrect].reshape(28,28), cmap='gray', interpolation='none')\n",
        "   plt.title(\"Predicted {}, Class {}\".format(predicted_classes[incorrect], y_test[incorrect]))\n",
        "   plt.tight_layout()"
      ],
      "execution_count": 18,
      "outputs": [
        {
          "output_type": "stream",
          "text": [
            "Found incorrect labels: 246\n"
          ],
          "name": "stdout"
        },
        {
          "output_type": "display_data",
          "data": {
            "image/png": "[encoded data removed]",
            "text/plain": [
              "<Figure size 720x720 with 25 Axes>"
            ]
          },
          "metadata": {
            "tags": []
          }
        }
      ]
    },
    {
      "cell_type": "markdown",
      "metadata": {
        "id": "tni1-1i5OWK-",
        "colab_type": "text"
      },
      "source": [
        "Layer with regularization has negative impact on the model and hence not used in further models\n",
        "\n",
        "**MODEL-4**\n",
        "\n",
        "**Model with Regularization** - Regularization is used in the loss function and a custom loss function is defined for that."
      ]
    },
    {
      "cell_type": "code",
      "metadata": {
        "id": "203ypo5zFcFl",
        "colab_type": "code",
        "colab": {}
      },
      "source": [
        "from keras import backend as K\n",
        "batch_size = 32\n",
        "\n",
        "def custom_loss(actual,predicted):\n",
        "    sqr_w = 0\n",
        "    lamda = 0.01 #1e-4\n",
        "\n",
        "    for layer in model.layers:\n",
        "      sqr_w = sqr_w + np.sum(np.sum(np.sum(np.square(layer.get_weights()))))\n",
        "\n",
        "    l2_regularization = (lamda*sqr_w)/2*(batch_size)\n",
        "    loss = K.categorical_crossentropy(actual,predicted) + l2_regularization\n",
        "\n",
        "    # Return a function\n",
        "    return loss"
      ],
      "execution_count": 0,
      "outputs": []
    },
    {
      "cell_type": "code",
      "metadata": {
        "id": "xeh6TKhJGDZ9",
        "colab_type": "code",
        "colab": {
          "base_uri": "https://localhost:8080/",
          "height": 1000
        },
        "outputId": "29242c9c-853b-4553-81f5-e3337c41b6a8"
      },
      "source": [
        "model = Sequential()\n",
        "\n",
        "model.add(Convolution2D(16, 3, 3, input_shape=(28,28,1))) #Receptive field 3*3\n",
        "model.add(BatchNormalization())\n",
        "model.add(Activation('relu'))\n",
        "model.add(Dropout(0.05))\n",
        "model.add(Convolution2D(16, 3, 3)) #Receptive field 5*5\n",
        "model.add(BatchNormalization())\n",
        "model.add(Activation('relu'))\n",
        "model.add(Dropout(0.05))\n",
        "model.add(MaxPooling2D()) #Receptive field 6*6\n",
        "model.add(Convolution2D(16, 3, 3)) #Receptive field 10*10\n",
        "model.add(BatchNormalization())\n",
        "model.add(Activation('relu'))\n",
        "model.add(Dropout(0.05))\n",
        "model.add(Convolution2D(16, 3, 3)) #Receptive field 14*14\n",
        "model.add(BatchNormalization())\n",
        "model.add(Activation('relu'))\n",
        "model.add(Dropout(0.05))\n",
        "model.add(Convolution2D(10, 1))\n",
        "model.add(Convolution2D(10, 8))\n",
        "model.add(BatchNormalization())\n",
        "model.add(Flatten())\n",
        "model.add(Activation('softmax'))\n",
        "\n",
        "model.summary()"
      ],
      "execution_count": 20,
      "outputs": [
        {
          "output_type": "stream",
          "text": [
            "/usr/local/lib/python3.6/dist-packages/ipykernel_launcher.py:3: UserWarning: Update your `Conv2D` call to the Keras 2 API: `Conv2D(16, (3, 3), input_shape=(28, 28, 1...)`\n",
            "  This is separate from the ipykernel package so we can avoid doing imports until\n",
            "/usr/local/lib/python3.6/dist-packages/ipykernel_launcher.py:7: UserWarning: Update your `Conv2D` call to the Keras 2 API: `Conv2D(16, (3, 3))`\n",
            "  import sys\n",
            "/usr/local/lib/python3.6/dist-packages/ipykernel_launcher.py:12: UserWarning: Update your `Conv2D` call to the Keras 2 API: `Conv2D(16, (3, 3))`\n",
            "  if sys.path[0] == '':\n",
            "/usr/local/lib/python3.6/dist-packages/ipykernel_launcher.py:16: UserWarning: Update your `Conv2D` call to the Keras 2 API: `Conv2D(16, (3, 3))`\n",
            "  app.launch_new_instance()\n"
          ],
          "name": "stderr"
        },
        {
          "output_type": "stream",
          "text": [
            "Model: \"sequential_4\"\n",
            "_________________________________________________________________\n",
            "Layer (type)                 Output Shape              Param #   \n",
            "=================================================================\n",
            "conv2d_19 (Conv2D)           (None, 26, 26, 16)        160       \n",
            "_________________________________________________________________\n",
            "batch_normalization_16 (Batc (None, 26, 26, 16)        64        \n",
            "_________________________________________________________________\n",
            "activation_16 (Activation)   (None, 26, 26, 16)        0         \n",
            "_________________________________________________________________\n",
            "dropout_13 (Dropout)         (None, 26, 26, 16)        0         \n",
            "_________________________________________________________________\n",
            "conv2d_20 (Conv2D)           (None, 24, 24, 16)        2320      \n",
            "_________________________________________________________________\n",
            "batch_normalization_17 (Batc (None, 24, 24, 16)        64        \n",
            "_________________________________________________________________\n",
            "activation_17 (Activation)   (None, 24, 24, 16)        0         \n",
            "_________________________________________________________________\n",
            "dropout_14 (Dropout)         (None, 24, 24, 16)        0         \n",
            "_________________________________________________________________\n",
            "max_pooling2d_4 (MaxPooling2 (None, 12, 12, 16)        0         \n",
            "_________________________________________________________________\n",
            "conv2d_21 (Conv2D)           (None, 10, 10, 16)        2320      \n",
            "_________________________________________________________________\n",
            "batch_normalization_18 (Batc (None, 10, 10, 16)        64        \n",
            "_________________________________________________________________\n",
            "activation_18 (Activation)   (None, 10, 10, 16)        0         \n",
            "_________________________________________________________________\n",
            "dropout_15 (Dropout)         (None, 10, 10, 16)        0         \n",
            "_________________________________________________________________\n",
            "conv2d_22 (Conv2D)           (None, 8, 8, 16)          2320      \n",
            "_________________________________________________________________\n",
            "batch_normalization_19 (Batc (None, 8, 8, 16)          64        \n",
            "_________________________________________________________________\n",
            "activation_19 (Activation)   (None, 8, 8, 16)          0         \n",
            "_________________________________________________________________\n",
            "dropout_16 (Dropout)         (None, 8, 8, 16)          0         \n",
            "_________________________________________________________________\n",
            "conv2d_23 (Conv2D)           (None, 8, 8, 10)          170       \n",
            "_________________________________________________________________\n",
            "conv2d_24 (Conv2D)           (None, 1, 1, 10)          6410      \n",
            "_________________________________________________________________\n",
            "batch_normalization_20 (Batc (None, 1, 1, 10)          40        \n",
            "_________________________________________________________________\n",
            "flatten_4 (Flatten)          (None, 10)                0         \n",
            "_________________________________________________________________\n",
            "activation_20 (Activation)   (None, 10)                0         \n",
            "=================================================================\n",
            "Total params: 13,996\n",
            "Trainable params: 13,848\n",
            "Non-trainable params: 148\n",
            "_________________________________________________________________\n"
          ],
          "name": "stdout"
        }
      ]
    },
    {
      "cell_type": "code",
      "metadata": {
        "id": "1qE_g_m-GOxf",
        "colab_type": "code",
        "colab": {
          "base_uri": "https://localhost:8080/",
          "height": 1000
        },
        "outputId": "a09345c7-fee0-4d9f-e4cd-b7654fff1d22"
      },
      "source": [
        "model.compile(loss=custom_loss,\n",
        "             optimizer=optimizers.Adam(lr = 0.01, decay=0.0001),\n",
        "             metrics=['accuracy'])\n",
        "mcp = ModelCheckpoint(\"Model4\", monitor=\"val_acc\",\n",
        "                      save_best_only=True, save_weights_only=False)\n",
        "model.fit(X_train, Y_train, batch_size=32, nb_epoch=30, verbose=1,\n",
        "          validation_data=(X_test, Y_test), callbacks=[mcp])"
      ],
      "execution_count": 21,
      "outputs": [
        {
          "output_type": "stream",
          "text": [
            "/usr/local/lib/python3.6/dist-packages/ipykernel_launcher.py:7: UserWarning: The `nb_epoch` argument in `fit` has been renamed `epochs`.\n",
            "  import sys\n"
          ],
          "name": "stderr"
        },
        {
          "output_type": "stream",
          "text": [
            "Train on 60000 samples, validate on 10000 samples\n",
            "Epoch 1/30\n",
            "60000/60000 [==============================] - 37s 623us/step - loss: 35.4762 - acc: 0.9566 - val_loss: 35.3403 - val_acc: 0.9862\n",
            "Epoch 2/30\n",
            "60000/60000 [==============================] - 34s 563us/step - loss: 35.3685 - acc: 0.9790 - val_loss: 35.3252 - val_acc: 0.9915\n",
            "Epoch 3/30\n",
            "60000/60000 [==============================] - 32s 539us/step - loss: 35.3506 - acc: 0.9836 - val_loss: 35.3245 - val_acc: 0.9911\n",
            "Epoch 4/30\n",
            "60000/60000 [==============================] - 33s 547us/step - loss: 35.3430 - acc: 0.9859 - val_loss: 35.3272 - val_acc: 0.9899\n",
            "Epoch 5/30\n",
            "60000/60000 [==============================] - 34s 568us/step - loss: 35.3348 - acc: 0.9877 - val_loss: 35.3226 - val_acc: 0.9907\n",
            "Epoch 6/30\n",
            "60000/60000 [==============================] - 32s 531us/step - loss: 35.3309 - acc: 0.9890 - val_loss: 35.3198 - val_acc: 0.9923\n",
            "Epoch 7/30\n",
            "60000/60000 [==============================] - 34s 560us/step - loss: 35.3278 - acc: 0.9902 - val_loss: 35.3207 - val_acc: 0.9925\n",
            "Epoch 8/30\n",
            "60000/60000 [==============================] - 33s 544us/step - loss: 35.3251 - acc: 0.9906 - val_loss: 35.3133 - val_acc: 0.9944\n",
            "Epoch 9/30\n",
            "60000/60000 [==============================] - 35s 586us/step - loss: 35.3216 - acc: 0.9919 - val_loss: 35.3137 - val_acc: 0.9939\n",
            "Epoch 10/30\n",
            "60000/60000 [==============================] - 34s 563us/step - loss: 35.3209 - acc: 0.9917 - val_loss: 35.3135 - val_acc: 0.9935\n",
            "Epoch 11/30\n",
            "60000/60000 [==============================] - 31s 524us/step - loss: 35.3180 - acc: 0.9929 - val_loss: 35.3153 - val_acc: 0.9929\n",
            "Epoch 12/30\n",
            "60000/60000 [==============================] - 33s 547us/step - loss: 35.3155 - acc: 0.9935 - val_loss: 35.3160 - val_acc: 0.9931\n",
            "Epoch 13/30\n",
            "60000/60000 [==============================] - 33s 555us/step - loss: 35.3160 - acc: 0.9932 - val_loss: 35.3126 - val_acc: 0.9946\n",
            "Epoch 14/30\n",
            "60000/60000 [==============================] - 32s 534us/step - loss: 35.3136 - acc: 0.9943 - val_loss: 35.3131 - val_acc: 0.9943\n",
            "Epoch 15/30\n",
            "60000/60000 [==============================] - 34s 565us/step - loss: 35.3133 - acc: 0.9941 - val_loss: 35.3145 - val_acc: 0.9937\n",
            "Epoch 16/30\n",
            "60000/60000 [==============================] - 32s 538us/step - loss: 35.3114 - acc: 0.9946 - val_loss: 35.3129 - val_acc: 0.9942\n",
            "Epoch 17/30\n",
            "60000/60000 [==============================] - 36s 599us/step - loss: 35.3119 - acc: 0.9941 - val_loss: 35.3138 - val_acc: 0.9934\n",
            "Epoch 18/30\n",
            "60000/60000 [==============================] - 33s 550us/step - loss: 35.3097 - acc: 0.9954 - val_loss: 35.3127 - val_acc: 0.9937\n",
            "Epoch 19/30\n",
            "60000/60000 [==============================] - 32s 539us/step - loss: 35.3095 - acc: 0.9954 - val_loss: 35.3128 - val_acc: 0.9941\n",
            "Epoch 20/30\n",
            "60000/60000 [==============================] - 34s 563us/step - loss: 35.3093 - acc: 0.9952 - val_loss: 35.3141 - val_acc: 0.9934\n",
            "Epoch 21/30\n",
            "60000/60000 [==============================] - 33s 550us/step - loss: 35.3079 - acc: 0.9958 - val_loss: 35.3136 - val_acc: 0.9935\n",
            "Epoch 22/30\n",
            "60000/60000 [==============================] - 32s 532us/step - loss: 35.3082 - acc: 0.9954 - val_loss: 35.3128 - val_acc: 0.9942\n",
            "Epoch 23/30\n",
            "60000/60000 [==============================] - 34s 561us/step - loss: 35.3077 - acc: 0.9954 - val_loss: 35.3131 - val_acc: 0.9939\n",
            "Epoch 24/30\n",
            "60000/60000 [==============================] - 33s 552us/step - loss: 35.3068 - acc: 0.9961 - val_loss: 35.3140 - val_acc: 0.9941\n",
            "Epoch 25/30\n",
            "60000/60000 [==============================] - 35s 583us/step - loss: 35.3076 - acc: 0.9958 - val_loss: 35.3121 - val_acc: 0.9939\n",
            "Epoch 26/30\n",
            "60000/60000 [==============================] - 32s 541us/step - loss: 35.3062 - acc: 0.9963 - val_loss: 35.3139 - val_acc: 0.9940\n",
            "Epoch 27/30\n",
            "60000/60000 [==============================] - 32s 527us/step - loss: 35.3058 - acc: 0.9963 - val_loss: 35.3135 - val_acc: 0.9941\n",
            "Epoch 28/30\n",
            "60000/60000 [==============================] - 34s 567us/step - loss: 35.3054 - acc: 0.9967 - val_loss: 35.3119 - val_acc: 0.9944\n",
            "Epoch 29/30\n",
            "60000/60000 [==============================] - 32s 541us/step - loss: 35.3049 - acc: 0.9966 - val_loss: 35.3130 - val_acc: 0.9941\n",
            "Epoch 30/30\n",
            "60000/60000 [==============================] - 32s 537us/step - loss: 35.3043 - acc: 0.9965 - val_loss: 35.3152 - val_acc: 0.9938\n"
          ],
          "name": "stdout"
        },
        {
          "output_type": "execute_result",
          "data": {
            "text/plain": [
              "<keras.callbacks.History at 0x7f62201972e8>"
            ]
          },
          "metadata": {
            "tags": []
          },
          "execution_count": 21
        }
      ]
    },
    {
      "cell_type": "code",
      "metadata": {
        "id": "FWnSx4GWIdBz",
        "colab_type": "code",
        "colab": {
          "base_uri": "https://localhost:8080/",
          "height": 746
        },
        "outputId": "57ea22af-e952-4834-9fac-a87c7fa68e69"
      },
      "source": [
        "predicted_classes = model.predict(X_test)\n",
        "predicted_classes = np.argmax(np.round(predicted_classes),axis=1)\n",
        "predicted_classes.shape, y_test.shape\n",
        "incorrect =np.where(predicted_classes != y_test)[0]\n",
        "print ('Found incorrect labels:', len(incorrect))\n",
        "plt.figure(figsize=(10,10))\n",
        "for i, incorrect in enumerate(incorrect[:25]):\n",
        "   plt.subplot(5,5,i+1)\n",
        "   plt.imshow(X_test[incorrect].reshape(28,28), cmap='gray', interpolation='none')\n",
        "   plt.title(\"Predicted {}, Class {}\".format(predicted_classes[incorrect], y_test[incorrect]))\n",
        "   plt.tight_layout()"
      ],
      "execution_count": 22,
      "outputs": [
        {
          "output_type": "stream",
          "text": [
            "Found incorrect labels: 68\n"
          ],
          "name": "stdout"
        },
        {
          "output_type": "display_data",
          "data": {
            "image/png": "[encoded data removed]",
            "text/plain": [
              "<Figure size 720x720 with 25 Axes>"
            ]
          },
          "metadata": {
            "tags": []
          }
        }
      ]
    },
    {
      "cell_type": "markdown",
      "metadata": {
        "id": "YCJxWC18u458",
        "colab_type": "text"
      },
      "source": [
        "**MODEL-5**\n",
        "\n",
        "**Image Normalization**\n",
        "\n",
        "In this model regularization of any type has been removed because it was having either negative impact or no impact."
      ]
    },
    {
      "cell_type": "code",
      "metadata": {
        "id": "BNBidzZz2JX9",
        "colab_type": "code",
        "colab": {}
      },
      "source": [
        "(X_train, y_train), (X_test, y_test) = mnist.load_data()\n",
        "# Normalizing the input\n",
        "X_train= X_train.reshape(X_train.shape[0], 28, 28, 1)\n",
        "X_train = X_train.astype('float32')\n",
        "X_train/=255\n",
        "X_test = X_test.reshape(X_test.shape[0],28,28,1)\n",
        "X_test = X_test.astype('float32')\n",
        "X_test/=255\n",
        "y_train = np_utils.to_categorical(y_train)\n",
        "y_test= np_utils.to_categorical(y_test)\n"
      ],
      "execution_count": 0,
      "outputs": []
    },
    {
      "cell_type": "code",
      "metadata": {
        "id": "C_3AsZ0cmgDX",
        "colab_type": "code",
        "colab": {
          "base_uri": "https://localhost:8080/",
          "height": 901
        },
        "outputId": "8c734712-772f-48fc-9981-b3f71bbc7ec5"
      },
      "source": [
        "from keras import regularizers\n",
        "\n",
        "model = Sequential()\n",
        "\n",
        "model.add(Convolution2D(16, (3, 3), input_shape=(28,28,1))) #Receptive field 3*3\n",
        "model.add(BatchNormalization())\n",
        "model.add(Activation('relu'))\n",
        "model.add(Dropout(0.05))\n",
        "model.add(Convolution2D(16, (3, 3))) #Receptive field 5*5\n",
        "model.add(BatchNormalization())\n",
        "model.add(Activation('relu'))\n",
        "model.add(Dropout(0.05))\n",
        "model.add(MaxPooling2D()) #Receptive field 6*6\n",
        "model.add(Convolution2D(16, (3, 3))) #Receptive field 10*10\n",
        "model.add(BatchNormalization())\n",
        "model.add(Activation('relu'))\n",
        "model.add(Dropout(0.05))\n",
        "model.add(Convolution2D(16, (3, 3))) #Receptive field 14*14\n",
        "model.add(BatchNormalization())\n",
        "model.add(Activation('relu'))\n",
        "model.add(Dropout(0.05))\n",
        "model.add(Convolution2D(10, (1, 1)))\n",
        "model.add(Convolution2D(10, (8, 8)))\n",
        "model.add(BatchNormalization())\n",
        "model.add(Flatten())\n",
        "model.add(Activation('softmax'))\n",
        "\n",
        "\n",
        "model.summary()"
      ],
      "execution_count": 24,
      "outputs": [
        {
          "output_type": "stream",
          "text": [
            "Model: \"sequential_5\"\n",
            "_________________________________________________________________\n",
            "Layer (type)                 Output Shape              Param #   \n",
            "=================================================================\n",
            "conv2d_25 (Conv2D)           (None, 26, 26, 16)        160       \n",
            "_________________________________________________________________\n",
            "batch_normalization_21 (Batc (None, 26, 26, 16)        64        \n",
            "_________________________________________________________________\n",
            "activation_21 (Activation)   (None, 26, 26, 16)        0         \n",
            "_________________________________________________________________\n",
            "dropout_17 (Dropout)         (None, 26, 26, 16)        0         \n",
            "_________________________________________________________________\n",
            "conv2d_26 (Conv2D)           (None, 24, 24, 16)        2320      \n",
            "_________________________________________________________________\n",
            "batch_normalization_22 (Batc (None, 24, 24, 16)        64        \n",
            "_________________________________________________________________\n",
            "activation_22 (Activation)   (None, 24, 24, 16)        0         \n",
            "_________________________________________________________________\n",
            "dropout_18 (Dropout)         (None, 24, 24, 16)        0         \n",
            "_________________________________________________________________\n",
            "max_pooling2d_5 (MaxPooling2 (None, 12, 12, 16)        0         \n",
            "_________________________________________________________________\n",
            "conv2d_27 (Conv2D)           (None, 10, 10, 16)        2320      \n",
            "_________________________________________________________________\n",
            "batch_normalization_23 (Batc (None, 10, 10, 16)        64        \n",
            "_________________________________________________________________\n",
            "activation_23 (Activation)   (None, 10, 10, 16)        0         \n",
            "_________________________________________________________________\n",
            "dropout_19 (Dropout)         (None, 10, 10, 16)        0         \n",
            "_________________________________________________________________\n",
            "conv2d_28 (Conv2D)           (None, 8, 8, 16)          2320      \n",
            "_________________________________________________________________\n",
            "batch_normalization_24 (Batc (None, 8, 8, 16)          64        \n",
            "_________________________________________________________________\n",
            "activation_24 (Activation)   (None, 8, 8, 16)          0         \n",
            "_________________________________________________________________\n",
            "dropout_20 (Dropout)         (None, 8, 8, 16)          0         \n",
            "_________________________________________________________________\n",
            "conv2d_29 (Conv2D)           (None, 8, 8, 10)          170       \n",
            "_________________________________________________________________\n",
            "conv2d_30 (Conv2D)           (None, 1, 1, 10)          6410      \n",
            "_________________________________________________________________\n",
            "batch_normalization_25 (Batc (None, 1, 1, 10)          40        \n",
            "_________________________________________________________________\n",
            "flatten_5 (Flatten)          (None, 10)                0         \n",
            "_________________________________________________________________\n",
            "activation_25 (Activation)   (None, 10)                0         \n",
            "=================================================================\n",
            "Total params: 13,996\n",
            "Trainable params: 13,848\n",
            "Non-trainable params: 148\n",
            "_________________________________________________________________\n"
          ],
          "name": "stdout"
        }
      ]
    },
    {
      "cell_type": "code",
      "metadata": {
        "id": "AvI85LqOlbFQ",
        "colab_type": "code",
        "colab": {}
      },
      "source": [
        "from keras.preprocessing.image import ImageDataGenerator\n",
        "# applying transformation to image\n",
        "train_gen = ImageDataGenerator(rotation_range=8, \n",
        "                               width_shift_range=0.08, \n",
        "                               shear_range=0.3, \n",
        "                               height_shift_range=0.08, \n",
        "                               zoom_range=0.08 )\n",
        "test_gen = ImageDataGenerator()\n",
        "\n",
        "training_set= train_gen.flow(X_train, y_train, batch_size=32)\n",
        "test_set= train_gen.flow(X_test, y_test, batch_size=32)"
      ],
      "execution_count": 0,
      "outputs": []
    },
    {
      "cell_type": "code",
      "metadata": {
        "id": "_m5XtL3TlkBs",
        "colab_type": "code",
        "colab": {
          "base_uri": "https://localhost:8080/",
          "height": 1000
        },
        "outputId": "005f46f7-d3ce-46fe-f190-c6cbfd0e68e7"
      },
      "source": [
        "model.compile(loss='categorical_crossentropy',\n",
        "             optimizer=optimizers.Adam(lr = 0.01, decay=0.0001),\n",
        "             metrics=['accuracy'])\n",
        "              \n",
        "mcp = ModelCheckpoint(\"Model5\", monitor=\"val_acc\",\n",
        "                      save_best_only=True, save_weights_only=False)\n",
        "\n",
        "model.fit_generator(training_set, \n",
        "                         steps_per_epoch=60000//32, \n",
        "                         validation_data= test_set, \n",
        "                         validation_steps=10000//32, \n",
        "                         epochs=30,\n",
        "                         callbacks=[mcp])"
      ],
      "execution_count": 26,
      "outputs": [
        {
          "output_type": "stream",
          "text": [
            "Epoch 1/30\n",
            "1875/1875 [==============================] - 54s 29ms/step - loss: 0.2712 - acc: 0.9261 - val_loss: 0.0991 - val_acc: 0.9718\n",
            "Epoch 2/30\n",
            "1875/1875 [==============================] - 52s 28ms/step - loss: 0.1254 - acc: 0.9636 - val_loss: 0.0573 - val_acc: 0.9828\n",
            "Epoch 3/30\n",
            "1875/1875 [==============================] - 50s 27ms/step - loss: 0.0987 - acc: 0.9708 - val_loss: 0.0622 - val_acc: 0.9812\n",
            "Epoch 4/30\n",
            "1875/1875 [==============================] - 51s 27ms/step - loss: 0.0828 - acc: 0.9758 - val_loss: 0.0405 - val_acc: 0.9876\n",
            "Epoch 5/30\n",
            "1875/1875 [==============================] - 51s 27ms/step - loss: 0.0763 - acc: 0.9777 - val_loss: 0.0402 - val_acc: 0.9868\n",
            "Epoch 6/30\n",
            "1875/1875 [==============================] - 51s 27ms/step - loss: 0.0670 - acc: 0.9803 - val_loss: 0.0396 - val_acc: 0.9876\n",
            "Epoch 7/30\n",
            "1875/1875 [==============================] - 52s 28ms/step - loss: 0.0649 - acc: 0.9813 - val_loss: 0.0316 - val_acc: 0.9896\n",
            "Epoch 8/30\n",
            "1875/1875 [==============================] - 51s 27ms/step - loss: 0.0574 - acc: 0.9832 - val_loss: 0.0324 - val_acc: 0.9898\n",
            "Epoch 9/30\n",
            "1875/1875 [==============================] - 51s 27ms/step - loss: 0.0573 - acc: 0.9832 - val_loss: 0.0341 - val_acc: 0.9899\n",
            "Epoch 10/30\n",
            "1875/1875 [==============================] - 50s 27ms/step - loss: 0.0540 - acc: 0.9846 - val_loss: 0.0324 - val_acc: 0.9902\n",
            "Epoch 11/30\n",
            "1875/1875 [==============================] - 50s 27ms/step - loss: 0.0517 - acc: 0.9843 - val_loss: 0.0249 - val_acc: 0.9922\n",
            "Epoch 12/30\n",
            "1875/1875 [==============================] - 51s 27ms/step - loss: 0.0509 - acc: 0.9848 - val_loss: 0.0311 - val_acc: 0.9898\n",
            "Epoch 13/30\n",
            "1875/1875 [==============================] - 49s 26ms/step - loss: 0.0489 - acc: 0.9857 - val_loss: 0.0266 - val_acc: 0.9919\n",
            "Epoch 14/30\n",
            "1875/1875 [==============================] - 52s 28ms/step - loss: 0.0462 - acc: 0.9865 - val_loss: 0.0224 - val_acc: 0.9935\n",
            "Epoch 15/30\n",
            "1875/1875 [==============================] - 50s 27ms/step - loss: 0.0463 - acc: 0.9864 - val_loss: 0.0239 - val_acc: 0.9913\n",
            "Epoch 16/30\n",
            "1875/1875 [==============================] - 50s 27ms/step - loss: 0.0457 - acc: 0.9869 - val_loss: 0.0266 - val_acc: 0.9923\n",
            "Epoch 17/30\n",
            "1875/1875 [==============================] - 51s 27ms/step - loss: 0.0427 - acc: 0.9874 - val_loss: 0.0244 - val_acc: 0.9928\n",
            "Epoch 18/30\n",
            "1875/1875 [==============================] - 51s 27ms/step - loss: 0.0422 - acc: 0.9878 - val_loss: 0.0230 - val_acc: 0.9934\n",
            "Epoch 19/30\n",
            "1875/1875 [==============================] - 51s 27ms/step - loss: 0.0432 - acc: 0.9882 - val_loss: 0.0216 - val_acc: 0.9931\n",
            "Epoch 20/30\n",
            "1875/1875 [==============================] - 52s 28ms/step - loss: 0.0407 - acc: 0.9878 - val_loss: 0.0224 - val_acc: 0.9933\n",
            "Epoch 21/30\n",
            "1875/1875 [==============================] - 51s 27ms/step - loss: 0.0415 - acc: 0.9877 - val_loss: 0.0251 - val_acc: 0.9924\n",
            "Epoch 22/30\n",
            "1875/1875 [==============================] - 51s 27ms/step - loss: 0.0401 - acc: 0.9880 - val_loss: 0.0235 - val_acc: 0.9929\n",
            "Epoch 23/30\n",
            "1875/1875 [==============================] - 52s 28ms/step - loss: 0.0384 - acc: 0.9888 - val_loss: 0.0217 - val_acc: 0.9931\n",
            "Epoch 24/30\n",
            "1875/1875 [==============================] - 50s 27ms/step - loss: 0.0386 - acc: 0.9887 - val_loss: 0.0244 - val_acc: 0.9925\n",
            "Epoch 25/30\n",
            "1875/1875 [==============================] - 52s 28ms/step - loss: 0.0391 - acc: 0.9882 - val_loss: 0.0215 - val_acc: 0.9935\n",
            "Epoch 26/30\n",
            "1875/1875 [==============================] - 50s 27ms/step - loss: 0.0367 - acc: 0.9890 - val_loss: 0.0206 - val_acc: 0.9932\n",
            "Epoch 27/30\n",
            "1875/1875 [==============================] - 52s 28ms/step - loss: 0.0355 - acc: 0.9889 - val_loss: 0.0206 - val_acc: 0.9931\n",
            "Epoch 28/30\n",
            "1875/1875 [==============================] - 52s 28ms/step - loss: 0.0375 - acc: 0.9887 - val_loss: 0.0219 - val_acc: 0.9930\n",
            "Epoch 29/30\n",
            "1875/1875 [==============================] - 50s 27ms/step - loss: 0.0367 - acc: 0.9889 - val_loss: 0.0209 - val_acc: 0.9938\n",
            "Epoch 30/30\n",
            "1875/1875 [==============================] - 50s 27ms/step - loss: 0.0367 - acc: 0.9894 - val_loss: 0.0216 - val_acc: 0.9935\n"
          ],
          "name": "stdout"
        },
        {
          "output_type": "execute_result",
          "data": {
            "text/plain": [
              "<keras.callbacks.History at 0x7f621e905ba8>"
            ]
          },
          "metadata": {
            "tags": []
          },
          "execution_count": 26
        }
      ]
    },
    {
      "cell_type": "markdown",
      "metadata": {
        "id": "yIwvlBJJQkXe",
        "colab_type": "text"
      },
      "source": [
        "**Summary**\n",
        "\n",
        "***Model 1*** has given the best performance so far. "
      ]
    }
  ]
}